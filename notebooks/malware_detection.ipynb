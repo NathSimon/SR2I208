{
  "cells": [
    {
      "cell_type": "code",
      "execution_count": 81,
      "metadata": {
        "id": "woEqj9VnmS8l"
      },
      "outputs": [],
      "source": [
        "import numpy as np\n",
        "import pandas as pd\n",
        "import matplotlib.pyplot as plt\n",
        "import sklearn as sk\n",
        "import joblib"
      ]
    },
    {
      "cell_type": "code",
      "execution_count": 83,
      "metadata": {
        "id": "npz9p4Gqma6U"
      },
      "outputs": [],
      "source": [
        "filename = '../datasets/dynamic_api_call_sequence_per_malware_100_0_306.csv'"
      ]
    },
    {
      "cell_type": "code",
      "execution_count": 84,
      "metadata": {
        "colab": {
          "base_uri": "https://localhost:8080/"
        },
        "id": "LUFsCX0EmtRu",
        "outputId": "e40c3e8a-545e-48cb-92a2-c812c90eb6ed"
      },
      "outputs": [
        {
          "name": "stderr",
          "output_type": "stream",
          "text": [
            "<ipython-input-84-d985b2af7af2>:1: DtypeWarning: Columns (1,2,3,4,5,6,7,8,9,10,11,12,13,14,15,16,17,18,19,20,21,22,23,24,25,26,27,28,29,30,31,32,33,34,35,36,37,38,39,40,41,42,43,44,45,46,47,48,49,50,51,52,53,54,55,56,57,58,59,60,61,62,63,64,65,66,67,68,69,70,71,72,73,74,75,76,77,78,79,80,81,82,83,84,85,86,87,88,89,90,91,92,93,94,95,96,97,98,99,100,101) have mixed types. Specify dtype option on import or set low_memory=False.\n",
            "  data = pd.read_csv(filename, header=None)\n"
          ]
        }
      ],
      "source": [
        "data = pd.read_csv(filename, header=None)"
      ]
    },
    {
      "cell_type": "code",
      "execution_count": 85,
      "metadata": {
        "colab": {
          "base_uri": "https://localhost:8080/",
          "height": 235
        },
        "id": "HJaMTvm-nB54",
        "outputId": "711cd4d5-2e4e-46a9-d882-4f6c3be0737b"
      },
      "outputs": [
        {
          "data": {
            "text/html": [
              "\n",
              "  <div id=\"df-b5a11e50-9cdb-40e5-94af-3f6736fd84bb\">\n",
              "    <div class=\"colab-df-container\">\n",
              "      <div>\n",
              "<style scoped>\n",
              "    .dataframe tbody tr th:only-of-type {\n",
              "        vertical-align: middle;\n",
              "    }\n",
              "\n",
              "    .dataframe tbody tr th {\n",
              "        vertical-align: top;\n",
              "    }\n",
              "\n",
              "    .dataframe thead th {\n",
              "        text-align: right;\n",
              "    }\n",
              "</style>\n",
              "<table border=\"1\" class=\"dataframe\">\n",
              "  <thead>\n",
              "    <tr style=\"text-align: right;\">\n",
              "      <th></th>\n",
              "      <th>0</th>\n",
              "      <th>1</th>\n",
              "      <th>2</th>\n",
              "      <th>3</th>\n",
              "      <th>4</th>\n",
              "      <th>5</th>\n",
              "      <th>6</th>\n",
              "      <th>7</th>\n",
              "      <th>8</th>\n",
              "      <th>9</th>\n",
              "      <th>...</th>\n",
              "      <th>92</th>\n",
              "      <th>93</th>\n",
              "      <th>94</th>\n",
              "      <th>95</th>\n",
              "      <th>96</th>\n",
              "      <th>97</th>\n",
              "      <th>98</th>\n",
              "      <th>99</th>\n",
              "      <th>100</th>\n",
              "      <th>101</th>\n",
              "    </tr>\n",
              "  </thead>\n",
              "  <tbody>\n",
              "    <tr>\n",
              "      <th>0</th>\n",
              "      <td>hash</td>\n",
              "      <td>t_0</td>\n",
              "      <td>t_1</td>\n",
              "      <td>t_2</td>\n",
              "      <td>t_3</td>\n",
              "      <td>t_4</td>\n",
              "      <td>t_5</td>\n",
              "      <td>t_6</td>\n",
              "      <td>t_7</td>\n",
              "      <td>t_8</td>\n",
              "      <td>...</td>\n",
              "      <td>t_91</td>\n",
              "      <td>t_92</td>\n",
              "      <td>t_93</td>\n",
              "      <td>t_94</td>\n",
              "      <td>t_95</td>\n",
              "      <td>t_96</td>\n",
              "      <td>t_97</td>\n",
              "      <td>t_98</td>\n",
              "      <td>t_99</td>\n",
              "      <td>malware</td>\n",
              "    </tr>\n",
              "    <tr>\n",
              "      <th>1</th>\n",
              "      <td>071e8c3f8922e186e57548cd4c703a5d</td>\n",
              "      <td>112</td>\n",
              "      <td>274</td>\n",
              "      <td>158</td>\n",
              "      <td>215</td>\n",
              "      <td>274</td>\n",
              "      <td>158</td>\n",
              "      <td>215</td>\n",
              "      <td>298</td>\n",
              "      <td>76</td>\n",
              "      <td>...</td>\n",
              "      <td>71</td>\n",
              "      <td>297</td>\n",
              "      <td>135</td>\n",
              "      <td>171</td>\n",
              "      <td>215</td>\n",
              "      <td>35</td>\n",
              "      <td>208</td>\n",
              "      <td>56</td>\n",
              "      <td>71</td>\n",
              "      <td>1</td>\n",
              "    </tr>\n",
              "    <tr>\n",
              "      <th>2</th>\n",
              "      <td>33f8e6d08a6aae939f25a8e0d63dd523</td>\n",
              "      <td>82</td>\n",
              "      <td>208</td>\n",
              "      <td>187</td>\n",
              "      <td>208</td>\n",
              "      <td>172</td>\n",
              "      <td>117</td>\n",
              "      <td>172</td>\n",
              "      <td>117</td>\n",
              "      <td>172</td>\n",
              "      <td>...</td>\n",
              "      <td>81</td>\n",
              "      <td>240</td>\n",
              "      <td>117</td>\n",
              "      <td>71</td>\n",
              "      <td>297</td>\n",
              "      <td>135</td>\n",
              "      <td>171</td>\n",
              "      <td>215</td>\n",
              "      <td>35</td>\n",
              "      <td>1</td>\n",
              "    </tr>\n",
              "    <tr>\n",
              "      <th>3</th>\n",
              "      <td>b68abd064e975e1c6d5f25e748663076</td>\n",
              "      <td>16</td>\n",
              "      <td>110</td>\n",
              "      <td>240</td>\n",
              "      <td>117</td>\n",
              "      <td>240</td>\n",
              "      <td>117</td>\n",
              "      <td>240</td>\n",
              "      <td>117</td>\n",
              "      <td>240</td>\n",
              "      <td>...</td>\n",
              "      <td>65</td>\n",
              "      <td>112</td>\n",
              "      <td>123</td>\n",
              "      <td>65</td>\n",
              "      <td>112</td>\n",
              "      <td>123</td>\n",
              "      <td>65</td>\n",
              "      <td>113</td>\n",
              "      <td>112</td>\n",
              "      <td>1</td>\n",
              "    </tr>\n",
              "    <tr>\n",
              "      <th>4</th>\n",
              "      <td>72049be7bd30ea61297ea624ae198067</td>\n",
              "      <td>82</td>\n",
              "      <td>208</td>\n",
              "      <td>187</td>\n",
              "      <td>208</td>\n",
              "      <td>172</td>\n",
              "      <td>117</td>\n",
              "      <td>172</td>\n",
              "      <td>117</td>\n",
              "      <td>172</td>\n",
              "      <td>...</td>\n",
              "      <td>208</td>\n",
              "      <td>302</td>\n",
              "      <td>208</td>\n",
              "      <td>302</td>\n",
              "      <td>187</td>\n",
              "      <td>208</td>\n",
              "      <td>302</td>\n",
              "      <td>228</td>\n",
              "      <td>302</td>\n",
              "      <td>1</td>\n",
              "    </tr>\n",
              "  </tbody>\n",
              "</table>\n",
              "<p>5 rows × 102 columns</p>\n",
              "</div>\n",
              "      <button class=\"colab-df-convert\" onclick=\"convertToInteractive('df-b5a11e50-9cdb-40e5-94af-3f6736fd84bb')\"\n",
              "              title=\"Convert this dataframe to an interactive table.\"\n",
              "              style=\"display:none;\">\n",
              "        \n",
              "  <svg xmlns=\"http://www.w3.org/2000/svg\" height=\"24px\"viewBox=\"0 0 24 24\"\n",
              "       width=\"24px\">\n",
              "    <path d=\"M0 0h24v24H0V0z\" fill=\"none\"/>\n",
              "    <path d=\"M18.56 5.44l.94 2.06.94-2.06 2.06-.94-2.06-.94-.94-2.06-.94 2.06-2.06.94zm-11 1L8.5 8.5l.94-2.06 2.06-.94-2.06-.94L8.5 2.5l-.94 2.06-2.06.94zm10 10l.94 2.06.94-2.06 2.06-.94-2.06-.94-.94-2.06-.94 2.06-2.06.94z\"/><path d=\"M17.41 7.96l-1.37-1.37c-.4-.4-.92-.59-1.43-.59-.52 0-1.04.2-1.43.59L10.3 9.45l-7.72 7.72c-.78.78-.78 2.05 0 2.83L4 21.41c.39.39.9.59 1.41.59.51 0 1.02-.2 1.41-.59l7.78-7.78 2.81-2.81c.8-.78.8-2.07 0-2.86zM5.41 20L4 18.59l7.72-7.72 1.47 1.35L5.41 20z\"/>\n",
              "  </svg>\n",
              "      </button>\n",
              "      \n",
              "  <style>\n",
              "    .colab-df-container {\n",
              "      display:flex;\n",
              "      flex-wrap:wrap;\n",
              "      gap: 12px;\n",
              "    }\n",
              "\n",
              "    .colab-df-convert {\n",
              "      background-color: #E8F0FE;\n",
              "      border: none;\n",
              "      border-radius: 50%;\n",
              "      cursor: pointer;\n",
              "      display: none;\n",
              "      fill: #1967D2;\n",
              "      height: 32px;\n",
              "      padding: 0 0 0 0;\n",
              "      width: 32px;\n",
              "    }\n",
              "\n",
              "    .colab-df-convert:hover {\n",
              "      background-color: #E2EBFA;\n",
              "      box-shadow: 0px 1px 2px rgba(60, 64, 67, 0.3), 0px 1px 3px 1px rgba(60, 64, 67, 0.15);\n",
              "      fill: #174EA6;\n",
              "    }\n",
              "\n",
              "    [theme=dark] .colab-df-convert {\n",
              "      background-color: #3B4455;\n",
              "      fill: #D2E3FC;\n",
              "    }\n",
              "\n",
              "    [theme=dark] .colab-df-convert:hover {\n",
              "      background-color: #434B5C;\n",
              "      box-shadow: 0px 1px 3px 1px rgba(0, 0, 0, 0.15);\n",
              "      filter: drop-shadow(0px 1px 2px rgba(0, 0, 0, 0.3));\n",
              "      fill: #FFFFFF;\n",
              "    }\n",
              "  </style>\n",
              "\n",
              "      <script>\n",
              "        const buttonEl =\n",
              "          document.querySelector('#df-b5a11e50-9cdb-40e5-94af-3f6736fd84bb button.colab-df-convert');\n",
              "        buttonEl.style.display =\n",
              "          google.colab.kernel.accessAllowed ? 'block' : 'none';\n",
              "\n",
              "        async function convertToInteractive(key) {\n",
              "          const element = document.querySelector('#df-b5a11e50-9cdb-40e5-94af-3f6736fd84bb');\n",
              "          const dataTable =\n",
              "            await google.colab.kernel.invokeFunction('convertToInteractive',\n",
              "                                                     [key], {});\n",
              "          if (!dataTable) return;\n",
              "\n",
              "          const docLinkHtml = 'Like what you see? Visit the ' +\n",
              "            '<a target=\"_blank\" href=https://colab.research.google.com/notebooks/data_table.ipynb>data table notebook</a>'\n",
              "            + ' to learn more about interactive tables.';\n",
              "          element.innerHTML = '';\n",
              "          dataTable['output_type'] = 'display_data';\n",
              "          await google.colab.output.renderOutput(dataTable, element);\n",
              "          const docLink = document.createElement('div');\n",
              "          docLink.innerHTML = docLinkHtml;\n",
              "          element.appendChild(docLink);\n",
              "        }\n",
              "      </script>\n",
              "    </div>\n",
              "  </div>\n",
              "  "
            ],
            "text/plain": [
              "                                0    1    2    3    4    5    6    7    8    \\\n",
              "0                              hash  t_0  t_1  t_2  t_3  t_4  t_5  t_6  t_7   \n",
              "1  071e8c3f8922e186e57548cd4c703a5d  112  274  158  215  274  158  215  298   \n",
              "2  33f8e6d08a6aae939f25a8e0d63dd523   82  208  187  208  172  117  172  117   \n",
              "3  b68abd064e975e1c6d5f25e748663076   16  110  240  117  240  117  240  117   \n",
              "4  72049be7bd30ea61297ea624ae198067   82  208  187  208  172  117  172  117   \n",
              "\n",
              "   9    ...   92    93    94    95    96    97    98    99    100      101  \n",
              "0  t_8  ...  t_91  t_92  t_93  t_94  t_95  t_96  t_97  t_98  t_99  malware  \n",
              "1   76  ...    71   297   135   171   215    35   208    56    71        1  \n",
              "2  172  ...    81   240   117    71   297   135   171   215    35        1  \n",
              "3  240  ...    65   112   123    65   112   123    65   113   112        1  \n",
              "4  172  ...   208   302   208   302   187   208   302   228   302        1  \n",
              "\n",
              "[5 rows x 102 columns]"
            ]
          },
          "execution_count": 85,
          "metadata": {},
          "output_type": "execute_result"
        }
      ],
      "source": [
        "data.head()"
      ]
    },
    {
      "cell_type": "code",
      "execution_count": 86,
      "metadata": {
        "id": "A6I8KuQvoc8A"
      },
      "outputs": [],
      "source": [
        "dataset = data.iloc[1:, 1:101]"
      ]
    },
    {
      "cell_type": "code",
      "execution_count": 87,
      "metadata": {
        "colab": {
          "base_uri": "https://localhost:8080/",
          "height": 235
        },
        "id": "poq3M0P2ogCI",
        "outputId": "9a069c51-7b29-4bc5-e875-6c1404499fea"
      },
      "outputs": [
        {
          "data": {
            "text/html": [
              "\n",
              "  <div id=\"df-4d8c3946-1341-45c2-96e7-d65beffa11c3\">\n",
              "    <div class=\"colab-df-container\">\n",
              "      <div>\n",
              "<style scoped>\n",
              "    .dataframe tbody tr th:only-of-type {\n",
              "        vertical-align: middle;\n",
              "    }\n",
              "\n",
              "    .dataframe tbody tr th {\n",
              "        vertical-align: top;\n",
              "    }\n",
              "\n",
              "    .dataframe thead th {\n",
              "        text-align: right;\n",
              "    }\n",
              "</style>\n",
              "<table border=\"1\" class=\"dataframe\">\n",
              "  <thead>\n",
              "    <tr style=\"text-align: right;\">\n",
              "      <th></th>\n",
              "      <th>1</th>\n",
              "      <th>2</th>\n",
              "      <th>3</th>\n",
              "      <th>4</th>\n",
              "      <th>5</th>\n",
              "      <th>6</th>\n",
              "      <th>7</th>\n",
              "      <th>8</th>\n",
              "      <th>9</th>\n",
              "      <th>10</th>\n",
              "      <th>...</th>\n",
              "      <th>91</th>\n",
              "      <th>92</th>\n",
              "      <th>93</th>\n",
              "      <th>94</th>\n",
              "      <th>95</th>\n",
              "      <th>96</th>\n",
              "      <th>97</th>\n",
              "      <th>98</th>\n",
              "      <th>99</th>\n",
              "      <th>100</th>\n",
              "    </tr>\n",
              "  </thead>\n",
              "  <tbody>\n",
              "    <tr>\n",
              "      <th>1</th>\n",
              "      <td>112</td>\n",
              "      <td>274</td>\n",
              "      <td>158</td>\n",
              "      <td>215</td>\n",
              "      <td>274</td>\n",
              "      <td>158</td>\n",
              "      <td>215</td>\n",
              "      <td>298</td>\n",
              "      <td>76</td>\n",
              "      <td>208</td>\n",
              "      <td>...</td>\n",
              "      <td>117</td>\n",
              "      <td>71</td>\n",
              "      <td>297</td>\n",
              "      <td>135</td>\n",
              "      <td>171</td>\n",
              "      <td>215</td>\n",
              "      <td>35</td>\n",
              "      <td>208</td>\n",
              "      <td>56</td>\n",
              "      <td>71</td>\n",
              "    </tr>\n",
              "    <tr>\n",
              "      <th>2</th>\n",
              "      <td>82</td>\n",
              "      <td>208</td>\n",
              "      <td>187</td>\n",
              "      <td>208</td>\n",
              "      <td>172</td>\n",
              "      <td>117</td>\n",
              "      <td>172</td>\n",
              "      <td>117</td>\n",
              "      <td>172</td>\n",
              "      <td>117</td>\n",
              "      <td>...</td>\n",
              "      <td>60</td>\n",
              "      <td>81</td>\n",
              "      <td>240</td>\n",
              "      <td>117</td>\n",
              "      <td>71</td>\n",
              "      <td>297</td>\n",
              "      <td>135</td>\n",
              "      <td>171</td>\n",
              "      <td>215</td>\n",
              "      <td>35</td>\n",
              "    </tr>\n",
              "    <tr>\n",
              "      <th>3</th>\n",
              "      <td>16</td>\n",
              "      <td>110</td>\n",
              "      <td>240</td>\n",
              "      <td>117</td>\n",
              "      <td>240</td>\n",
              "      <td>117</td>\n",
              "      <td>240</td>\n",
              "      <td>117</td>\n",
              "      <td>240</td>\n",
              "      <td>117</td>\n",
              "      <td>...</td>\n",
              "      <td>123</td>\n",
              "      <td>65</td>\n",
              "      <td>112</td>\n",
              "      <td>123</td>\n",
              "      <td>65</td>\n",
              "      <td>112</td>\n",
              "      <td>123</td>\n",
              "      <td>65</td>\n",
              "      <td>113</td>\n",
              "      <td>112</td>\n",
              "    </tr>\n",
              "    <tr>\n",
              "      <th>4</th>\n",
              "      <td>82</td>\n",
              "      <td>208</td>\n",
              "      <td>187</td>\n",
              "      <td>208</td>\n",
              "      <td>172</td>\n",
              "      <td>117</td>\n",
              "      <td>172</td>\n",
              "      <td>117</td>\n",
              "      <td>172</td>\n",
              "      <td>117</td>\n",
              "      <td>...</td>\n",
              "      <td>215</td>\n",
              "      <td>208</td>\n",
              "      <td>302</td>\n",
              "      <td>208</td>\n",
              "      <td>302</td>\n",
              "      <td>187</td>\n",
              "      <td>208</td>\n",
              "      <td>302</td>\n",
              "      <td>228</td>\n",
              "      <td>302</td>\n",
              "    </tr>\n",
              "    <tr>\n",
              "      <th>5</th>\n",
              "      <td>82</td>\n",
              "      <td>240</td>\n",
              "      <td>117</td>\n",
              "      <td>240</td>\n",
              "      <td>117</td>\n",
              "      <td>240</td>\n",
              "      <td>117</td>\n",
              "      <td>240</td>\n",
              "      <td>117</td>\n",
              "      <td>172</td>\n",
              "      <td>...</td>\n",
              "      <td>40</td>\n",
              "      <td>209</td>\n",
              "      <td>260</td>\n",
              "      <td>40</td>\n",
              "      <td>209</td>\n",
              "      <td>260</td>\n",
              "      <td>141</td>\n",
              "      <td>260</td>\n",
              "      <td>141</td>\n",
              "      <td>260</td>\n",
              "    </tr>\n",
              "  </tbody>\n",
              "</table>\n",
              "<p>5 rows × 100 columns</p>\n",
              "</div>\n",
              "      <button class=\"colab-df-convert\" onclick=\"convertToInteractive('df-4d8c3946-1341-45c2-96e7-d65beffa11c3')\"\n",
              "              title=\"Convert this dataframe to an interactive table.\"\n",
              "              style=\"display:none;\">\n",
              "        \n",
              "  <svg xmlns=\"http://www.w3.org/2000/svg\" height=\"24px\"viewBox=\"0 0 24 24\"\n",
              "       width=\"24px\">\n",
              "    <path d=\"M0 0h24v24H0V0z\" fill=\"none\"/>\n",
              "    <path d=\"M18.56 5.44l.94 2.06.94-2.06 2.06-.94-2.06-.94-.94-2.06-.94 2.06-2.06.94zm-11 1L8.5 8.5l.94-2.06 2.06-.94-2.06-.94L8.5 2.5l-.94 2.06-2.06.94zm10 10l.94 2.06.94-2.06 2.06-.94-2.06-.94-.94-2.06-.94 2.06-2.06.94z\"/><path d=\"M17.41 7.96l-1.37-1.37c-.4-.4-.92-.59-1.43-.59-.52 0-1.04.2-1.43.59L10.3 9.45l-7.72 7.72c-.78.78-.78 2.05 0 2.83L4 21.41c.39.39.9.59 1.41.59.51 0 1.02-.2 1.41-.59l7.78-7.78 2.81-2.81c.8-.78.8-2.07 0-2.86zM5.41 20L4 18.59l7.72-7.72 1.47 1.35L5.41 20z\"/>\n",
              "  </svg>\n",
              "      </button>\n",
              "      \n",
              "  <style>\n",
              "    .colab-df-container {\n",
              "      display:flex;\n",
              "      flex-wrap:wrap;\n",
              "      gap: 12px;\n",
              "    }\n",
              "\n",
              "    .colab-df-convert {\n",
              "      background-color: #E8F0FE;\n",
              "      border: none;\n",
              "      border-radius: 50%;\n",
              "      cursor: pointer;\n",
              "      display: none;\n",
              "      fill: #1967D2;\n",
              "      height: 32px;\n",
              "      padding: 0 0 0 0;\n",
              "      width: 32px;\n",
              "    }\n",
              "\n",
              "    .colab-df-convert:hover {\n",
              "      background-color: #E2EBFA;\n",
              "      box-shadow: 0px 1px 2px rgba(60, 64, 67, 0.3), 0px 1px 3px 1px rgba(60, 64, 67, 0.15);\n",
              "      fill: #174EA6;\n",
              "    }\n",
              "\n",
              "    [theme=dark] .colab-df-convert {\n",
              "      background-color: #3B4455;\n",
              "      fill: #D2E3FC;\n",
              "    }\n",
              "\n",
              "    [theme=dark] .colab-df-convert:hover {\n",
              "      background-color: #434B5C;\n",
              "      box-shadow: 0px 1px 3px 1px rgba(0, 0, 0, 0.15);\n",
              "      filter: drop-shadow(0px 1px 2px rgba(0, 0, 0, 0.3));\n",
              "      fill: #FFFFFF;\n",
              "    }\n",
              "  </style>\n",
              "\n",
              "      <script>\n",
              "        const buttonEl =\n",
              "          document.querySelector('#df-4d8c3946-1341-45c2-96e7-d65beffa11c3 button.colab-df-convert');\n",
              "        buttonEl.style.display =\n",
              "          google.colab.kernel.accessAllowed ? 'block' : 'none';\n",
              "\n",
              "        async function convertToInteractive(key) {\n",
              "          const element = document.querySelector('#df-4d8c3946-1341-45c2-96e7-d65beffa11c3');\n",
              "          const dataTable =\n",
              "            await google.colab.kernel.invokeFunction('convertToInteractive',\n",
              "                                                     [key], {});\n",
              "          if (!dataTable) return;\n",
              "\n",
              "          const docLinkHtml = 'Like what you see? Visit the ' +\n",
              "            '<a target=\"_blank\" href=https://colab.research.google.com/notebooks/data_table.ipynb>data table notebook</a>'\n",
              "            + ' to learn more about interactive tables.';\n",
              "          element.innerHTML = '';\n",
              "          dataTable['output_type'] = 'display_data';\n",
              "          await google.colab.output.renderOutput(dataTable, element);\n",
              "          const docLink = document.createElement('div');\n",
              "          docLink.innerHTML = docLinkHtml;\n",
              "          element.appendChild(docLink);\n",
              "        }\n",
              "      </script>\n",
              "    </div>\n",
              "  </div>\n",
              "  "
            ],
            "text/plain": [
              "   1    2    3    4    5    6    7    8    9    10   ...  91   92   93   94   \\\n",
              "1  112  274  158  215  274  158  215  298   76  208  ...  117   71  297  135   \n",
              "2   82  208  187  208  172  117  172  117  172  117  ...   60   81  240  117   \n",
              "3   16  110  240  117  240  117  240  117  240  117  ...  123   65  112  123   \n",
              "4   82  208  187  208  172  117  172  117  172  117  ...  215  208  302  208   \n",
              "5   82  240  117  240  117  240  117  240  117  172  ...   40  209  260   40   \n",
              "\n",
              "   95   96   97   98   99   100  \n",
              "1  171  215   35  208   56   71  \n",
              "2   71  297  135  171  215   35  \n",
              "3   65  112  123   65  113  112  \n",
              "4  302  187  208  302  228  302  \n",
              "5  209  260  141  260  141  260  \n",
              "\n",
              "[5 rows x 100 columns]"
            ]
          },
          "execution_count": 87,
          "metadata": {},
          "output_type": "execute_result"
        }
      ],
      "source": [
        "dataset.head()"
      ]
    },
    {
      "cell_type": "code",
      "execution_count": 88,
      "metadata": {
        "colab": {
          "base_uri": "https://localhost:8080/",
          "height": 235
        },
        "id": "AFdVDh6VFeIi",
        "outputId": "57e40823-1c12-4bbe-9820-f47bc4d973b7"
      },
      "outputs": [
        {
          "data": {
            "text/html": [
              "\n",
              "  <div id=\"df-b7e7dc12-5740-4ea3-aa2a-f535a62ba13e\">\n",
              "    <div class=\"colab-df-container\">\n",
              "      <div>\n",
              "<style scoped>\n",
              "    .dataframe tbody tr th:only-of-type {\n",
              "        vertical-align: middle;\n",
              "    }\n",
              "\n",
              "    .dataframe tbody tr th {\n",
              "        vertical-align: top;\n",
              "    }\n",
              "\n",
              "    .dataframe thead th {\n",
              "        text-align: right;\n",
              "    }\n",
              "</style>\n",
              "<table border=\"1\" class=\"dataframe\">\n",
              "  <thead>\n",
              "    <tr style=\"text-align: right;\">\n",
              "      <th></th>\n",
              "      <th>1</th>\n",
              "      <th>2</th>\n",
              "      <th>3</th>\n",
              "      <th>4</th>\n",
              "      <th>5</th>\n",
              "      <th>6</th>\n",
              "      <th>7</th>\n",
              "      <th>8</th>\n",
              "      <th>9</th>\n",
              "      <th>10</th>\n",
              "      <th>...</th>\n",
              "      <th>91</th>\n",
              "      <th>92</th>\n",
              "      <th>93</th>\n",
              "      <th>94</th>\n",
              "      <th>95</th>\n",
              "      <th>96</th>\n",
              "      <th>97</th>\n",
              "      <th>98</th>\n",
              "      <th>99</th>\n",
              "      <th>100</th>\n",
              "    </tr>\n",
              "  </thead>\n",
              "  <tbody>\n",
              "    <tr>\n",
              "      <th>1</th>\n",
              "      <td>112</td>\n",
              "      <td>274</td>\n",
              "      <td>158</td>\n",
              "      <td>215</td>\n",
              "      <td>274</td>\n",
              "      <td>158</td>\n",
              "      <td>215</td>\n",
              "      <td>298</td>\n",
              "      <td>76</td>\n",
              "      <td>208</td>\n",
              "      <td>...</td>\n",
              "      <td>117</td>\n",
              "      <td>71</td>\n",
              "      <td>297</td>\n",
              "      <td>135</td>\n",
              "      <td>171</td>\n",
              "      <td>215</td>\n",
              "      <td>35</td>\n",
              "      <td>208</td>\n",
              "      <td>56</td>\n",
              "      <td>71</td>\n",
              "    </tr>\n",
              "    <tr>\n",
              "      <th>2</th>\n",
              "      <td>82</td>\n",
              "      <td>208</td>\n",
              "      <td>187</td>\n",
              "      <td>208</td>\n",
              "      <td>172</td>\n",
              "      <td>117</td>\n",
              "      <td>172</td>\n",
              "      <td>117</td>\n",
              "      <td>172</td>\n",
              "      <td>117</td>\n",
              "      <td>...</td>\n",
              "      <td>60</td>\n",
              "      <td>81</td>\n",
              "      <td>240</td>\n",
              "      <td>117</td>\n",
              "      <td>71</td>\n",
              "      <td>297</td>\n",
              "      <td>135</td>\n",
              "      <td>171</td>\n",
              "      <td>215</td>\n",
              "      <td>35</td>\n",
              "    </tr>\n",
              "    <tr>\n",
              "      <th>3</th>\n",
              "      <td>16</td>\n",
              "      <td>110</td>\n",
              "      <td>240</td>\n",
              "      <td>117</td>\n",
              "      <td>240</td>\n",
              "      <td>117</td>\n",
              "      <td>240</td>\n",
              "      <td>117</td>\n",
              "      <td>240</td>\n",
              "      <td>117</td>\n",
              "      <td>...</td>\n",
              "      <td>123</td>\n",
              "      <td>65</td>\n",
              "      <td>112</td>\n",
              "      <td>123</td>\n",
              "      <td>65</td>\n",
              "      <td>112</td>\n",
              "      <td>123</td>\n",
              "      <td>65</td>\n",
              "      <td>113</td>\n",
              "      <td>112</td>\n",
              "    </tr>\n",
              "    <tr>\n",
              "      <th>4</th>\n",
              "      <td>82</td>\n",
              "      <td>208</td>\n",
              "      <td>187</td>\n",
              "      <td>208</td>\n",
              "      <td>172</td>\n",
              "      <td>117</td>\n",
              "      <td>172</td>\n",
              "      <td>117</td>\n",
              "      <td>172</td>\n",
              "      <td>117</td>\n",
              "      <td>...</td>\n",
              "      <td>215</td>\n",
              "      <td>208</td>\n",
              "      <td>302</td>\n",
              "      <td>208</td>\n",
              "      <td>302</td>\n",
              "      <td>187</td>\n",
              "      <td>208</td>\n",
              "      <td>302</td>\n",
              "      <td>228</td>\n",
              "      <td>302</td>\n",
              "    </tr>\n",
              "    <tr>\n",
              "      <th>5</th>\n",
              "      <td>82</td>\n",
              "      <td>240</td>\n",
              "      <td>117</td>\n",
              "      <td>240</td>\n",
              "      <td>117</td>\n",
              "      <td>240</td>\n",
              "      <td>117</td>\n",
              "      <td>240</td>\n",
              "      <td>117</td>\n",
              "      <td>172</td>\n",
              "      <td>...</td>\n",
              "      <td>40</td>\n",
              "      <td>209</td>\n",
              "      <td>260</td>\n",
              "      <td>40</td>\n",
              "      <td>209</td>\n",
              "      <td>260</td>\n",
              "      <td>141</td>\n",
              "      <td>260</td>\n",
              "      <td>141</td>\n",
              "      <td>260</td>\n",
              "    </tr>\n",
              "  </tbody>\n",
              "</table>\n",
              "<p>5 rows × 100 columns</p>\n",
              "</div>\n",
              "      <button class=\"colab-df-convert\" onclick=\"convertToInteractive('df-b7e7dc12-5740-4ea3-aa2a-f535a62ba13e')\"\n",
              "              title=\"Convert this dataframe to an interactive table.\"\n",
              "              style=\"display:none;\">\n",
              "        \n",
              "  <svg xmlns=\"http://www.w3.org/2000/svg\" height=\"24px\"viewBox=\"0 0 24 24\"\n",
              "       width=\"24px\">\n",
              "    <path d=\"M0 0h24v24H0V0z\" fill=\"none\"/>\n",
              "    <path d=\"M18.56 5.44l.94 2.06.94-2.06 2.06-.94-2.06-.94-.94-2.06-.94 2.06-2.06.94zm-11 1L8.5 8.5l.94-2.06 2.06-.94-2.06-.94L8.5 2.5l-.94 2.06-2.06.94zm10 10l.94 2.06.94-2.06 2.06-.94-2.06-.94-.94-2.06-.94 2.06-2.06.94z\"/><path d=\"M17.41 7.96l-1.37-1.37c-.4-.4-.92-.59-1.43-.59-.52 0-1.04.2-1.43.59L10.3 9.45l-7.72 7.72c-.78.78-.78 2.05 0 2.83L4 21.41c.39.39.9.59 1.41.59.51 0 1.02-.2 1.41-.59l7.78-7.78 2.81-2.81c.8-.78.8-2.07 0-2.86zM5.41 20L4 18.59l7.72-7.72 1.47 1.35L5.41 20z\"/>\n",
              "  </svg>\n",
              "      </button>\n",
              "      \n",
              "  <style>\n",
              "    .colab-df-container {\n",
              "      display:flex;\n",
              "      flex-wrap:wrap;\n",
              "      gap: 12px;\n",
              "    }\n",
              "\n",
              "    .colab-df-convert {\n",
              "      background-color: #E8F0FE;\n",
              "      border: none;\n",
              "      border-radius: 50%;\n",
              "      cursor: pointer;\n",
              "      display: none;\n",
              "      fill: #1967D2;\n",
              "      height: 32px;\n",
              "      padding: 0 0 0 0;\n",
              "      width: 32px;\n",
              "    }\n",
              "\n",
              "    .colab-df-convert:hover {\n",
              "      background-color: #E2EBFA;\n",
              "      box-shadow: 0px 1px 2px rgba(60, 64, 67, 0.3), 0px 1px 3px 1px rgba(60, 64, 67, 0.15);\n",
              "      fill: #174EA6;\n",
              "    }\n",
              "\n",
              "    [theme=dark] .colab-df-convert {\n",
              "      background-color: #3B4455;\n",
              "      fill: #D2E3FC;\n",
              "    }\n",
              "\n",
              "    [theme=dark] .colab-df-convert:hover {\n",
              "      background-color: #434B5C;\n",
              "      box-shadow: 0px 1px 3px 1px rgba(0, 0, 0, 0.15);\n",
              "      filter: drop-shadow(0px 1px 2px rgba(0, 0, 0, 0.3));\n",
              "      fill: #FFFFFF;\n",
              "    }\n",
              "  </style>\n",
              "\n",
              "      <script>\n",
              "        const buttonEl =\n",
              "          document.querySelector('#df-b7e7dc12-5740-4ea3-aa2a-f535a62ba13e button.colab-df-convert');\n",
              "        buttonEl.style.display =\n",
              "          google.colab.kernel.accessAllowed ? 'block' : 'none';\n",
              "\n",
              "        async function convertToInteractive(key) {\n",
              "          const element = document.querySelector('#df-b7e7dc12-5740-4ea3-aa2a-f535a62ba13e');\n",
              "          const dataTable =\n",
              "            await google.colab.kernel.invokeFunction('convertToInteractive',\n",
              "                                                     [key], {});\n",
              "          if (!dataTable) return;\n",
              "\n",
              "          const docLinkHtml = 'Like what you see? Visit the ' +\n",
              "            '<a target=\"_blank\" href=https://colab.research.google.com/notebooks/data_table.ipynb>data table notebook</a>'\n",
              "            + ' to learn more about interactive tables.';\n",
              "          element.innerHTML = '';\n",
              "          dataTable['output_type'] = 'display_data';\n",
              "          await google.colab.output.renderOutput(dataTable, element);\n",
              "          const docLink = document.createElement('div');\n",
              "          docLink.innerHTML = docLinkHtml;\n",
              "          element.appendChild(docLink);\n",
              "        }\n",
              "      </script>\n",
              "    </div>\n",
              "  </div>\n",
              "  "
            ],
            "text/plain": [
              "   1    2    3    4    5    6    7    8    9    10   ...  91   92   93   94   \\\n",
              "1  112  274  158  215  274  158  215  298   76  208  ...  117   71  297  135   \n",
              "2   82  208  187  208  172  117  172  117  172  117  ...   60   81  240  117   \n",
              "3   16  110  240  117  240  117  240  117  240  117  ...  123   65  112  123   \n",
              "4   82  208  187  208  172  117  172  117  172  117  ...  215  208  302  208   \n",
              "5   82  240  117  240  117  240  117  240  117  172  ...   40  209  260   40   \n",
              "\n",
              "   95   96   97   98   99   100  \n",
              "1  171  215   35  208   56   71  \n",
              "2   71  297  135  171  215   35  \n",
              "3   65  112  123   65  113  112  \n",
              "4  302  187  208  302  228  302  \n",
              "5  209  260  141  260  141  260  \n",
              "\n",
              "[5 rows x 100 columns]"
            ]
          },
          "execution_count": 88,
          "metadata": {},
          "output_type": "execute_result"
        }
      ],
      "source": [
        "dataset.head()"
      ]
    },
    {
      "cell_type": "code",
      "execution_count": 89,
      "metadata": {
        "id": "VxpC6XYBnI0k"
      },
      "outputs": [],
      "source": [
        "labels = data.iloc[1:, 101]\n",
        "labels = labels.to_frame()"
      ]
    },
    {
      "cell_type": "code",
      "execution_count": 90,
      "metadata": {
        "colab": {
          "base_uri": "https://localhost:8080/",
          "height": 206
        },
        "id": "m8r6S93nnL-8",
        "outputId": "04869d95-ee77-4932-a091-65d6eb59f1a2"
      },
      "outputs": [
        {
          "data": {
            "text/html": [
              "\n",
              "  <div id=\"df-11b4fb00-0ed2-44b2-bbb1-582622286dc2\">\n",
              "    <div class=\"colab-df-container\">\n",
              "      <div>\n",
              "<style scoped>\n",
              "    .dataframe tbody tr th:only-of-type {\n",
              "        vertical-align: middle;\n",
              "    }\n",
              "\n",
              "    .dataframe tbody tr th {\n",
              "        vertical-align: top;\n",
              "    }\n",
              "\n",
              "    .dataframe thead th {\n",
              "        text-align: right;\n",
              "    }\n",
              "</style>\n",
              "<table border=\"1\" class=\"dataframe\">\n",
              "  <thead>\n",
              "    <tr style=\"text-align: right;\">\n",
              "      <th></th>\n",
              "      <th>101</th>\n",
              "    </tr>\n",
              "  </thead>\n",
              "  <tbody>\n",
              "    <tr>\n",
              "      <th>1</th>\n",
              "      <td>1</td>\n",
              "    </tr>\n",
              "    <tr>\n",
              "      <th>2</th>\n",
              "      <td>1</td>\n",
              "    </tr>\n",
              "    <tr>\n",
              "      <th>3</th>\n",
              "      <td>1</td>\n",
              "    </tr>\n",
              "    <tr>\n",
              "      <th>4</th>\n",
              "      <td>1</td>\n",
              "    </tr>\n",
              "    <tr>\n",
              "      <th>5</th>\n",
              "      <td>1</td>\n",
              "    </tr>\n",
              "  </tbody>\n",
              "</table>\n",
              "</div>\n",
              "      <button class=\"colab-df-convert\" onclick=\"convertToInteractive('df-11b4fb00-0ed2-44b2-bbb1-582622286dc2')\"\n",
              "              title=\"Convert this dataframe to an interactive table.\"\n",
              "              style=\"display:none;\">\n",
              "        \n",
              "  <svg xmlns=\"http://www.w3.org/2000/svg\" height=\"24px\"viewBox=\"0 0 24 24\"\n",
              "       width=\"24px\">\n",
              "    <path d=\"M0 0h24v24H0V0z\" fill=\"none\"/>\n",
              "    <path d=\"M18.56 5.44l.94 2.06.94-2.06 2.06-.94-2.06-.94-.94-2.06-.94 2.06-2.06.94zm-11 1L8.5 8.5l.94-2.06 2.06-.94-2.06-.94L8.5 2.5l-.94 2.06-2.06.94zm10 10l.94 2.06.94-2.06 2.06-.94-2.06-.94-.94-2.06-.94 2.06-2.06.94z\"/><path d=\"M17.41 7.96l-1.37-1.37c-.4-.4-.92-.59-1.43-.59-.52 0-1.04.2-1.43.59L10.3 9.45l-7.72 7.72c-.78.78-.78 2.05 0 2.83L4 21.41c.39.39.9.59 1.41.59.51 0 1.02-.2 1.41-.59l7.78-7.78 2.81-2.81c.8-.78.8-2.07 0-2.86zM5.41 20L4 18.59l7.72-7.72 1.47 1.35L5.41 20z\"/>\n",
              "  </svg>\n",
              "      </button>\n",
              "      \n",
              "  <style>\n",
              "    .colab-df-container {\n",
              "      display:flex;\n",
              "      flex-wrap:wrap;\n",
              "      gap: 12px;\n",
              "    }\n",
              "\n",
              "    .colab-df-convert {\n",
              "      background-color: #E8F0FE;\n",
              "      border: none;\n",
              "      border-radius: 50%;\n",
              "      cursor: pointer;\n",
              "      display: none;\n",
              "      fill: #1967D2;\n",
              "      height: 32px;\n",
              "      padding: 0 0 0 0;\n",
              "      width: 32px;\n",
              "    }\n",
              "\n",
              "    .colab-df-convert:hover {\n",
              "      background-color: #E2EBFA;\n",
              "      box-shadow: 0px 1px 2px rgba(60, 64, 67, 0.3), 0px 1px 3px 1px rgba(60, 64, 67, 0.15);\n",
              "      fill: #174EA6;\n",
              "    }\n",
              "\n",
              "    [theme=dark] .colab-df-convert {\n",
              "      background-color: #3B4455;\n",
              "      fill: #D2E3FC;\n",
              "    }\n",
              "\n",
              "    [theme=dark] .colab-df-convert:hover {\n",
              "      background-color: #434B5C;\n",
              "      box-shadow: 0px 1px 3px 1px rgba(0, 0, 0, 0.15);\n",
              "      filter: drop-shadow(0px 1px 2px rgba(0, 0, 0, 0.3));\n",
              "      fill: #FFFFFF;\n",
              "    }\n",
              "  </style>\n",
              "\n",
              "      <script>\n",
              "        const buttonEl =\n",
              "          document.querySelector('#df-11b4fb00-0ed2-44b2-bbb1-582622286dc2 button.colab-df-convert');\n",
              "        buttonEl.style.display =\n",
              "          google.colab.kernel.accessAllowed ? 'block' : 'none';\n",
              "\n",
              "        async function convertToInteractive(key) {\n",
              "          const element = document.querySelector('#df-11b4fb00-0ed2-44b2-bbb1-582622286dc2');\n",
              "          const dataTable =\n",
              "            await google.colab.kernel.invokeFunction('convertToInteractive',\n",
              "                                                     [key], {});\n",
              "          if (!dataTable) return;\n",
              "\n",
              "          const docLinkHtml = 'Like what you see? Visit the ' +\n",
              "            '<a target=\"_blank\" href=https://colab.research.google.com/notebooks/data_table.ipynb>data table notebook</a>'\n",
              "            + ' to learn more about interactive tables.';\n",
              "          element.innerHTML = '';\n",
              "          dataTable['output_type'] = 'display_data';\n",
              "          await google.colab.output.renderOutput(dataTable, element);\n",
              "          const docLink = document.createElement('div');\n",
              "          docLink.innerHTML = docLinkHtml;\n",
              "          element.appendChild(docLink);\n",
              "        }\n",
              "      </script>\n",
              "    </div>\n",
              "  </div>\n",
              "  "
            ],
            "text/plain": [
              "  101\n",
              "1   1\n",
              "2   1\n",
              "3   1\n",
              "4   1\n",
              "5   1"
            ]
          },
          "execution_count": 90,
          "metadata": {},
          "output_type": "execute_result"
        }
      ],
      "source": [
        "labels.head()"
      ]
    },
    {
      "attachments": {},
      "cell_type": "markdown",
      "metadata": {
        "id": "kYMmz7HUvOlD"
      },
      "source": [
        "# Prétraitement des données"
      ]
    },
    {
      "cell_type": "code",
      "execution_count": 91,
      "metadata": {
        "id": "V4MGHrk6vQxY"
      },
      "outputs": [],
      "source": [
        "# Conversion des données d'entrée en format numérique\n",
        "dataset = dataset.astype(int)\n",
        "\n",
        "# Conversion des étiquettes en format numérique\n",
        "labels = labels.astype(int)\n",
        "\n",
        "# Division des données en ensembles d'entraînement et de test\n",
        "from sklearn.model_selection import train_test_split\n",
        "\n",
        "X_train, X_test, y_train, y_test = train_test_split(dataset, labels, test_size=0.2, random_state=42)\n",
        "\n",
        "# Normalisation des données\n",
        "from sklearn.preprocessing import MinMaxScaler\n",
        "\n",
        "scaler = MinMaxScaler()\n",
        "X_train_scaled = scaler.fit_transform(X_train)\n",
        "X_test_scaled = scaler.transform(X_test)\n"
      ]
    },
    {
      "attachments": {},
      "cell_type": "markdown",
      "metadata": {
        "id": "IXT2nAImF8Kk"
      },
      "source": [
        "# Feature selection"
      ]
    },
    {
      "cell_type": "code",
      "execution_count": 92,
      "metadata": {
        "id": "fKojOnI9F9fG"
      },
      "outputs": [],
      "source": [
        "from sklearn.feature_selection import SelectKBest, chi2\n",
        "\n",
        "# Nombre de caractéristiques à sélectionner\n",
        "k = 50\n",
        "\n",
        "# Sélection des caractéristiques les plus importantes\n",
        "selector = SelectKBest(score_func=chi2, k=k)\n",
        "X_train_selected = selector.fit_transform(X_train_scaled, y_train)\n",
        "X_test_selected = selector.transform(X_test_scaled)"
      ]
    },
    {
      "attachments": {},
      "cell_type": "markdown",
      "metadata": {
        "id": "0nqFz8qgvRzm"
      },
      "source": [
        "# Random Forest"
      ]
    },
    {
      "cell_type": "code",
      "execution_count": 93,
      "metadata": {
        "colab": {
          "base_uri": "https://localhost:8080/"
        },
        "id": "N__BRiuBvUh2",
        "outputId": "3c873686-45e9-4369-e0ef-b6015057f974"
      },
      "outputs": [
        {
          "name": "stderr",
          "output_type": "stream",
          "text": [
            "<ipython-input-93-dcc1f524a7bc>:7: DataConversionWarning: A column-vector y was passed when a 1d array was expected. Please change the shape of y to (n_samples,), for example using ravel().\n",
            "  model.fit(X_train_scaled, y_train)\n"
          ]
        },
        {
          "name": "stdout",
          "output_type": "stream",
          "text": [
            "Accuracy: 0.9887192342752963\n",
            "Precision: 0.9894590524730684\n",
            "Recall: 0.9990643274853801\n",
            "F1 Score: 0.9942384915323285\n"
          ]
        }
      ],
      "source": [
        "from sklearn.ensemble import RandomForestClassifier\n",
        "\n",
        "# Création du modèle\n",
        "model = RandomForestClassifier(n_estimators=100, random_state=42)\n",
        "\n",
        "# Entraînement du modèle\n",
        "model.fit(X_train_scaled, y_train)\n",
        "\n",
        "# Prédiction sur l'ensemble de test\n",
        "y_pred = model.predict(X_test_scaled)\n",
        "\n",
        "# Évaluation des performances du modèle\n",
        "from sklearn.metrics import accuracy_score, precision_score, recall_score, f1_score\n",
        "\n",
        "accuracy = accuracy_score(y_test, y_pred)\n",
        "precision = precision_score(y_test, y_pred)\n",
        "recall = recall_score(y_test, y_pred)\n",
        "f1 = f1_score(y_test, y_pred)\n",
        "\n",
        "print(\"Accuracy:\", accuracy)\n",
        "print(\"Precision:\", precision)\n",
        "print(\"Recall:\", recall)\n",
        "print(\"F1 Score:\", f1)\n"
      ]
    },
    {
      "cell_type": "code",
      "execution_count": 94,
      "metadata": {
        "colab": {
          "base_uri": "https://localhost:8080/",
          "height": 472
        },
        "id": "lPFq61T8qyDd",
        "outputId": "bbcfd46f-dba0-4236-bfa0-fff186ad3ad1"
      },
      "outputs": [
        {
          "data": {
            "image/png": "[encoded data removed]",
            "text/plain": [
              "<Figure size 640x480 with 1 Axes>"
            ]
          },
          "metadata": {},
          "output_type": "display_data"
        }
      ],
      "source": [
        "from sklearn.metrics import roc_curve, roc_auc_score\n",
        "\n",
        "# Calcul des probabilités de prédiction pour les courbes ROC\n",
        "y_pred_probs = model.predict_proba(X_test_scaled)[:, 1]\n",
        "auc = roc_auc_score(y_test, y_pred_probs)\n",
        "\n",
        "# Courbe ROC\n",
        "fpr, tpr, thresholds = roc_curve(y_test, y_pred_probs)\n",
        "\n",
        "plt.figure()\n",
        "plt.plot(fpr, tpr, label='Random Forest (AUC = {:.2f})'.format(auc))\n",
        "plt.plot([0, 1], [0, 1], 'k--')\n",
        "plt.xlim([0.0, 1.0])\n",
        "plt.ylim([0.0, 1.05])\n",
        "plt.xlabel('Taux de faux positifs')\n",
        "plt.ylabel('Taux de vrais positifs')\n",
        "plt.title('Courbe ROC')\n",
        "plt.legend(loc='lower right')\n",
        "plt.show()"
      ]
    },
    {
      "cell_type": "code",
      "execution_count": 95,
      "metadata": {
        "colab": {
          "base_uri": "https://localhost:8080/",
          "height": 389
        },
        "id": "345vzlNHuEtC",
        "outputId": "6ec33ac4-28d9-40c7-ef80-3ad2dfe6a766"
      },
      "outputs": [
        {
          "ename": "ValueError",
          "evalue": "ignored",
          "output_type": "error",
          "traceback": [
            "\u001b[0;31m---------------------------------------------------------------------------\u001b[0m",
            "\u001b[0;31mValueError\u001b[0m                                Traceback (most recent call last)",
            "\u001b[0;32m<ipython-input-95-5d6b7353345a>\u001b[0m in \u001b[0;36m<cell line: 5>\u001b[0;34m()\u001b[0m\n\u001b[1;32m      3\u001b[0m \u001b[0;34m\u001b[0m\u001b[0m\n\u001b[1;32m      4\u001b[0m \u001b[0;31m# Création d'un DataFrame pour les probabilités de prédiction\u001b[0m\u001b[0;34m\u001b[0m\u001b[0;34m\u001b[0m\u001b[0m\n\u001b[0;32m----> 5\u001b[0;31m \u001b[0mdf_probs\u001b[0m \u001b[0;34m=\u001b[0m \u001b[0mpd\u001b[0m\u001b[0;34m.\u001b[0m\u001b[0mDataFrame\u001b[0m\u001b[0;34m(\u001b[0m\u001b[0my_pred_probs\u001b[0m\u001b[0;34m,\u001b[0m \u001b[0mcolumns\u001b[0m\u001b[0;34m=\u001b[0m\u001b[0mmodel\u001b[0m\u001b[0;34m.\u001b[0m\u001b[0mclasses_\u001b[0m\u001b[0;34m)\u001b[0m\u001b[0;34m\u001b[0m\u001b[0;34m\u001b[0m\u001b[0m\n\u001b[0m\u001b[1;32m      6\u001b[0m \u001b[0;34m\u001b[0m\u001b[0m\n\u001b[1;32m      7\u001b[0m \u001b[0;31m# Ajout de la colonne de classe réelle\u001b[0m\u001b[0;34m\u001b[0m\u001b[0;34m\u001b[0m\u001b[0m\n",
            "\u001b[0;32m/usr/local/lib/python3.10/dist-packages/pandas/core/frame.py\u001b[0m in \u001b[0;36m__init__\u001b[0;34m(self, data, index, columns, dtype, copy)\u001b[0m\n\u001b[1;32m    720\u001b[0m                 )\n\u001b[1;32m    721\u001b[0m             \u001b[0;32melse\u001b[0m\u001b[0;34m:\u001b[0m\u001b[0;34m\u001b[0m\u001b[0;34m\u001b[0m\u001b[0m\n\u001b[0;32m--> 722\u001b[0;31m                 mgr = ndarray_to_mgr(\n\u001b[0m\u001b[1;32m    723\u001b[0m                     \u001b[0mdata\u001b[0m\u001b[0;34m,\u001b[0m\u001b[0;34m\u001b[0m\u001b[0;34m\u001b[0m\u001b[0m\n\u001b[1;32m    724\u001b[0m                     \u001b[0mindex\u001b[0m\u001b[0;34m,\u001b[0m\u001b[0;34m\u001b[0m\u001b[0;34m\u001b[0m\u001b[0m\n",
            "\u001b[0;32m/usr/local/lib/python3.10/dist-packages/pandas/core/internals/construction.py\u001b[0m in \u001b[0;36mndarray_to_mgr\u001b[0;34m(values, index, columns, dtype, copy, typ)\u001b[0m\n\u001b[1;32m    347\u001b[0m     )\n\u001b[1;32m    348\u001b[0m \u001b[0;34m\u001b[0m\u001b[0m\n\u001b[0;32m--> 349\u001b[0;31m     \u001b[0m_check_values_indices_shape_match\u001b[0m\u001b[0;34m(\u001b[0m\u001b[0mvalues\u001b[0m\u001b[0;34m,\u001b[0m \u001b[0mindex\u001b[0m\u001b[0;34m,\u001b[0m \u001b[0mcolumns\u001b[0m\u001b[0;34m)\u001b[0m\u001b[0;34m\u001b[0m\u001b[0;34m\u001b[0m\u001b[0m\n\u001b[0m\u001b[1;32m    350\u001b[0m \u001b[0;34m\u001b[0m\u001b[0m\n\u001b[1;32m    351\u001b[0m     \u001b[0;32mif\u001b[0m \u001b[0mtyp\u001b[0m \u001b[0;34m==\u001b[0m \u001b[0;34m\"array\"\u001b[0m\u001b[0;34m:\u001b[0m\u001b[0;34m\u001b[0m\u001b[0;34m\u001b[0m\u001b[0m\n",
            "\u001b[0;32m/usr/local/lib/python3.10/dist-packages/pandas/core/internals/construction.py\u001b[0m in \u001b[0;36m_check_values_indices_shape_match\u001b[0;34m(values, index, columns)\u001b[0m\n\u001b[1;32m    418\u001b[0m         \u001b[0mpassed\u001b[0m \u001b[0;34m=\u001b[0m \u001b[0mvalues\u001b[0m\u001b[0;34m.\u001b[0m\u001b[0mshape\u001b[0m\u001b[0;34m\u001b[0m\u001b[0;34m\u001b[0m\u001b[0m\n\u001b[1;32m    419\u001b[0m         \u001b[0mimplied\u001b[0m \u001b[0;34m=\u001b[0m \u001b[0;34m(\u001b[0m\u001b[0mlen\u001b[0m\u001b[0;34m(\u001b[0m\u001b[0mindex\u001b[0m\u001b[0;34m)\u001b[0m\u001b[0;34m,\u001b[0m \u001b[0mlen\u001b[0m\u001b[0;34m(\u001b[0m\u001b[0mcolumns\u001b[0m\u001b[0;34m)\u001b[0m\u001b[0;34m)\u001b[0m\u001b[0;34m\u001b[0m\u001b[0;34m\u001b[0m\u001b[0m\n\u001b[0;32m--> 420\u001b[0;31m         \u001b[0;32mraise\u001b[0m \u001b[0mValueError\u001b[0m\u001b[0;34m(\u001b[0m\u001b[0;34mf\"Shape of passed values is {passed}, indices imply {implied}\"\u001b[0m\u001b[0;34m)\u001b[0m\u001b[0;34m\u001b[0m\u001b[0;34m\u001b[0m\u001b[0m\n\u001b[0m\u001b[1;32m    421\u001b[0m \u001b[0;34m\u001b[0m\u001b[0m\n\u001b[1;32m    422\u001b[0m \u001b[0;34m\u001b[0m\u001b[0m\n",
            "\u001b[0;31mValueError\u001b[0m: Shape of passed values is (8776, 1), indices imply (8776, 2)"
          ]
        }
      ],
      "source": [
        "# Prédictions sur les données de test\n",
        "y_pred_probs = model.predict(X_test_scaled)\n",
        "\n",
        "# Création d'un DataFrame pour les probabilités de prédiction\n",
        "df_probs = pd.DataFrame(y_pred_probs, columns=model.classes_)\n",
        "\n",
        "# Ajout de la colonne de classe réelle\n",
        "df_probs['class'] = y_test.values\n",
        "\n",
        "# Tracé de l'histogramme pour chaque classe\n",
        "bins = 10  # Nombre de bins de l'histogramme\n",
        "\n",
        "plt.figure(figsize=(16, 8))\n",
        "for i, class_name in enumerate(model.classes_):\n",
        "    df_aux = df_probs[['class', class_name]]\n",
        "    ax = plt.subplot(2, 4, i+1)\n",
        "    sns.histplot(x=class_name, data=df_aux, hue='class', color='b', ax=ax, bins=bins)\n",
        "    ax.set_title(class_name)\n",
        "    ax.legend([f\"Class: {class_name}\", \"Rest\"])\n",
        "    ax.set_xlabel(f\"P(x = {class_name})\")\n",
        "\n",
        "plt.tight_layout()\n",
        "plt.show()\n"
      ]
    },
    {
      "cell_type": "code",
      "execution_count": 96,
      "metadata": {
        "colab": {
          "base_uri": "https://localhost:8080/",
          "height": 487
        },
        "id": "OQSEiZ62xH_T",
        "outputId": "1a4605e7-c0c9-4127-d69e-0a12fa86e6f9"
      },
      "outputs": [
        {
          "data": {
            "image/png": "[encoded data removed]",
            "text/plain": [
              "<Figure size 640x480 with 1 Axes>"
            ]
          },
          "metadata": {},
          "output_type": "display_data"
        }
      ],
      "source": [
        "y_score = model.predict_proba(X_test_scaled)\n",
        "\n",
        "df_aux = pd.DataFrame(columns=['class', 'prob'])\n",
        "df_aux['class'] = y_test\n",
        "\n",
        "df_aux['prob'] = y_score[:, i]\n",
        "df_aux = df_aux.reset_index(drop = True)\n",
        "\n",
        "ax = plt.subplot(1, 1, 1)\n",
        "\n",
        "# Plots the probability distribution for the class and the rest\n",
        "#ax = plt.subplot(2, 4, i-3)\n",
        "sns.histplot(x = \"prob\", data = df_aux, hue = 'class', color='b', ax = ax, bins = bins)\n",
        "ax.set_title(\"Histogram\")\n",
        "ax.legend([f\"malware\", \"non malware\"])\n",
        "ax.set_xlabel(f\"P(x = malware)\")\n",
        "\n",
        "plt.tight_layout()\n",
        "plt.show()"
      ]
    },
    {
      "cell_type": "code",
      "execution_count": 97,
      "metadata": {
        "colab": {
          "base_uri": "https://localhost:8080/",
          "height": 447
        },
        "id": "oQz77bBgwwS9",
        "outputId": "7ff7a165-656b-4dbb-be12-17c5d1ed3099"
      },
      "outputs": [
        {
          "data": {
            "image/png": "[encoded data removed]",
            "text/plain": [
              "<Figure size 1600x800 with 2 Axes>"
            ]
          },
          "metadata": {},
          "output_type": "display_data"
        }
      ],
      "source": [
        "# Obtention des étiquettes uniques à partir des données d'entraînement\n",
        "classes = np.unique(y_train)\n",
        "\n",
        "# Prédictions sur les données de test\n",
        "y_pred = model.predict(X_test_scaled)\n",
        "\n",
        "# Création d'un DataFrame pour les prédictions de classe\n",
        "df_probs = pd.DataFrame(y_pred, columns=['predicted_class'])\n",
        "\n",
        "# Ajout de la colonne de classe réelle\n",
        "df_probs['true_class'] = y_test.values\n",
        "\n",
        "# Tracé de l'histogramme pour chaque classe\n",
        "bins = 10  # Nombre de bins de l'histogramme\n",
        "\n",
        "plt.figure(figsize=(16, 8))\n",
        "for i, class_name in enumerate(classes):\n",
        "    df_aux = df_probs[df_probs['true_class'] == class_name]['predicted_class']\n",
        "    ax = plt.subplot(2, 4, i+1)\n",
        "    sns.histplot(df_aux, color='b', ax=ax, bins=bins)\n",
        "    ax.set_title(class_name)\n",
        "    ax.set_xlabel(f\"Predicted Class: {class_name}\")\n",
        "\n",
        "plt.tight_layout()\n",
        "plt.show()"
      ]
    },
    {
      "cell_type": "code",
      "execution_count": null,
      "metadata": {
        "id": "iRU8D-oIwADh"
      },
      "outputs": [],
      "source": [
        "import random\n",
        "\n",
        "# Sélection d'un index au hasard dans l'ensemble de test\n",
        "random_index = random.randint(0, len(X_test_scaled) - 1)\n",
        "\n",
        "# Sélection d'un exemple à prédire\n",
        "example = X_test_scaled[random_index]\n",
        "true_label = y_test.iloc[random_index]\n",
        "\n",
        "# Prédiction sur l'exemple\n",
        "predicted_label = model.predict([example])\n",
        "\n",
        "print(\"Exemple de test :\", example)\n",
        "print(\"Vraie étiquette :\", true_label)\n",
        "print(\"Étiquette prédite :\", predicted_label)\n"
      ]
    },
    {
      "cell_type": "code",
      "execution_count": 99,
      "metadata": {
        "id": "fEkxn5Xfyy8g"
      },
      "outputs": [],
      "source": [
        "from sklearn.metrics import classification_report"
      ]
    },
    {
      "cell_type": "code",
      "execution_count": 100,
      "metadata": {
        "colab": {
          "base_uri": "https://localhost:8080/"
        },
        "id": "WVcmbqnq091V",
        "outputId": "85dc7ea5-9f70-42fb-f1e3-b2f47472a4c6"
      },
      "outputs": [
        {
          "data": {
            "text/plain": [
              "['RM_.pkl']"
            ]
          },
          "execution_count": 100,
          "metadata": {},
          "output_type": "execute_result"
        }
      ],
      "source": [
        "import joblib\n",
        "\n",
        "# Save the trained Random Forest model\n",
        "joblib.dump(model, \"RM_.pkl\")"
      ]
    },
    {
      "cell_type": "code",
      "execution_count": 101,
      "metadata": {
        "id": "WiZRDt2IACmb"
      },
      "outputs": [],
      "source": [
        "import pickle\n",
        "\n",
        "# Save the trained Random Forest model\n",
        "with open(\"./RM.pkl\", \"wb\") as file:\n",
        "    pickle.dump(model, file)\n"
      ]
    },
    {
      "cell_type": "code",
      "execution_count": 102,
      "metadata": {
        "colab": {
          "base_uri": "https://localhost:8080/"
        },
        "id": "snKfWpXXk5ZC",
        "outputId": "4ec71e75-e88c-4e12-ea95-d1c912245aae"
      },
      "outputs": [
        {
          "name": "stdout",
          "output_type": "stream",
          "text": [
            "              precision    recall  f1-score   support\n",
            "\n",
            "           0    0.94406   0.59735   0.73171       226\n",
            "           1    0.98946   0.99906   0.99424      8550\n",
            "\n",
            "    accuracy                        0.98872      8776\n",
            "   macro avg    0.96676   0.79820   0.86297      8776\n",
            "weighted avg    0.98829   0.98872   0.98748      8776\n",
            "\n"
          ]
        }
      ],
      "source": [
        "print(classification_report(y_test, y_pred, digits=5))"
      ]
    },
    {
      "attachments": {},
      "cell_type": "markdown",
      "metadata": {
        "id": "x72T7_fBwyaf"
      },
      "source": [
        "# SVM"
      ]
    },
    {
      "cell_type": "code",
      "execution_count": 103,
      "metadata": {
        "colab": {
          "base_uri": "https://localhost:8080/"
        },
        "id": "QMlpNKfgwzZO",
        "outputId": "947d4491-df24-4603-f440-1fb5ac23373c"
      },
      "outputs": [
        {
          "name": "stderr",
          "output_type": "stream",
          "text": [
            "/usr/local/lib/python3.10/dist-packages/sklearn/utils/validation.py:1143: DataConversionWarning: A column-vector y was passed when a 1d array was expected. Please change the shape of y to (n_samples, ), for example using ravel().\n",
            "  y = column_or_1d(y, warn=True)\n"
          ]
        },
        {
          "name": "stdout",
          "output_type": "stream",
          "text": [
            "SVM Accuracy: 0.9862123974475843\n",
            "SVM Precision: 0.986045438819052\n",
            "SVM Recall: 1.0\n",
            "SVM F1 Score: 0.9929736949073805\n"
          ]
        }
      ],
      "source": [
        "from sklearn.svm import SVC\n",
        "\n",
        "# Création du modèle SVM\n",
        "svm_model = SVC(random_state=42)\n",
        "\n",
        "# Entraînement du modèle SVM\n",
        "svm_model.fit(X_train_scaled, y_train)\n",
        "\n",
        "# Prédiction sur l'ensemble de test\n",
        "svm_y_pred = svm_model.predict(X_test_scaled)\n",
        "\n",
        "# Évaluation des performances du modèle SVM\n",
        "svm_accuracy = accuracy_score(y_test, svm_y_pred)\n",
        "svm_precision = precision_score(y_test, svm_y_pred)\n",
        "svm_recall = recall_score(y_test, svm_y_pred)\n",
        "svm_f1 = f1_score(y_test, svm_y_pred)\n",
        "\n",
        "print(\"SVM Accuracy:\", svm_accuracy)\n",
        "print(\"SVM Precision:\", svm_precision)\n",
        "print(\"SVM Recall:\", svm_recall)\n",
        "print(\"SVM F1 Score:\", svm_f1)\n"
      ]
    },
    {
      "cell_type": "code",
      "execution_count": 104,
      "metadata": {
        "colab": {
          "base_uri": "https://localhost:8080/",
          "height": 472
        },
        "id": "EQHVwnW9sXrK",
        "outputId": "95ba5d88-7dfc-48e0-b840-449a3bf2b8bc"
      },
      "outputs": [
        {
          "data": {
            "image/png": "[encoded data removed]",
            "text/plain": [
              "<Figure size 640x480 with 1 Axes>"
            ]
          },
          "metadata": {},
          "output_type": "display_data"
        }
      ],
      "source": [
        "# Calcul des probabilités de prédiction pour les courbes ROC\n",
        "svm_y_pred_probs = svm_model.decision_function(X_test_scaled)\n",
        "svm_auc = roc_auc_score(y_test, svm_y_pred_probs)\n",
        "\n",
        "# Courbe ROC\n",
        "fpr, tpr, thresholds = roc_curve(y_test, svm_y_pred_probs)\n",
        "\n",
        "plt.figure()\n",
        "plt.plot(fpr, tpr, label='SVM (AUC = {:.2f})'.format(svm_auc))\n",
        "plt.plot([0, 1], [0, 1], 'k--')\n",
        "plt.xlim([0.0, 1.0])\n",
        "plt.ylim([0.0, 1.05])\n",
        "plt.xlabel('Taux de faux positifs')\n",
        "plt.ylabel('Taux de vrais positifs')\n",
        "plt.title('Courbe ROC')\n",
        "plt.legend(loc='lower right')\n",
        "plt.show()"
      ]
    },
    {
      "cell_type": "code",
      "execution_count": 109,
      "metadata": {
        "colab": {
          "base_uri": "https://localhost:8080/",
          "height": 487
        },
        "id": "EeDszaXoy2le",
        "outputId": "ff12a7ab-a43f-4c12-f093-0fe4e5195b12"
      },
      "outputs": [
        {
          "data": {
            "image/png": "[encoded data removed]",
            "text/plain": [
              "<Figure size 640x480 with 1 Axes>"
            ]
          },
          "metadata": {},
          "output_type": "display_data"
        }
      ],
      "source": [
        "y_pred = svm_model.predict(X_test_scaled)\n",
        "\n",
        "df_aux = pd.DataFrame(columns=['class'])\n",
        "df_aux['class'] = y_test\n",
        "\n",
        "df_aux['predicted_class'] = y_pred\n",
        "df_aux = df_aux.reset_index(drop=True)\n",
        "\n",
        "ax = plt.subplot(1, 1, 1)\n",
        "sns.histplot(x=\"predicted_class\", data=df_aux, hue='class', color='b', ax=ax, bins=bins)\n",
        "ax.set_title(\"Histogram\")\n",
        "ax.legend([\"malware\", \"non-malware\"])\n",
        "ax.set_xlabel(\"Predicted Class\")\n",
        "\n",
        "plt.tight_layout()\n",
        "plt.show()\n"
      ]
    },
    {
      "cell_type": "code",
      "execution_count": 110,
      "metadata": {
        "colab": {
          "base_uri": "https://localhost:8080/"
        },
        "id": "O2dsJbES0y2H",
        "outputId": "d96bd524-b5d1-4ad9-e66b-662e2e941125"
      },
      "outputs": [
        {
          "data": {
            "text/plain": [
              "['svm.pkl']"
            ]
          },
          "execution_count": 110,
          "metadata": {},
          "output_type": "execute_result"
        }
      ],
      "source": [
        "import joblib\n",
        "\n",
        "# Save the trained SVM model\n",
        "joblib.dump(svm_model, \"svm.pkl\")"
      ]
    },
    {
      "cell_type": "code",
      "execution_count": 111,
      "metadata": {
        "colab": {
          "base_uri": "https://localhost:8080/"
        },
        "id": "faWvcHvr44Qn",
        "outputId": "13ca58e3-c809-44b3-bc07-8b159bebdd02"
      },
      "outputs": [
        {
          "name": "stdout",
          "output_type": "stream",
          "text": [
            "              precision    recall  f1-score   support\n",
            "\n",
            "           0    1.00000   0.46460   0.63444       226\n",
            "           1    0.98605   1.00000   0.99297      8550\n",
            "\n",
            "    accuracy                        0.98621      8776\n",
            "   macro avg    0.99302   0.73230   0.81371      8776\n",
            "weighted avg    0.98640   0.98621   0.98374      8776\n",
            "\n"
          ]
        }
      ],
      "source": [
        "print(classification_report(y_test, svm_y_pred, digits=5))"
      ]
    },
    {
      "attachments": {},
      "cell_type": "markdown",
      "metadata": {
        "id": "W3LDKQ8Cw44z"
      },
      "source": [
        "# AdaBoost"
      ]
    },
    {
      "cell_type": "code",
      "execution_count": 112,
      "metadata": {
        "colab": {
          "base_uri": "https://localhost:8080/"
        },
        "id": "4HgrHi8sw33Q",
        "outputId": "1e797ad7-1b58-472d-d9fc-06b865bfffbe"
      },
      "outputs": [
        {
          "name": "stderr",
          "output_type": "stream",
          "text": [
            "/usr/local/lib/python3.10/dist-packages/sklearn/utils/validation.py:1143: DataConversionWarning: A column-vector y was passed when a 1d array was expected. Please change the shape of y to (n_samples, ), for example using ravel().\n",
            "  y = column_or_1d(y, warn=True)\n"
          ]
        },
        {
          "name": "stdout",
          "output_type": "stream",
          "text": [
            "AdaBoost Accuracy: 0.9832497721057429\n",
            "AdaBoost Precision: 0.9857787027402012\n",
            "AdaBoost Recall: 0.9971929824561403\n",
            "AdaBoost F1 Score: 0.9914529914529914\n"
          ]
        }
      ],
      "source": [
        "from sklearn.ensemble import AdaBoostClassifier\n",
        "\n",
        "# Création du modèle AdaBoost\n",
        "adaboost_model = AdaBoostClassifier(random_state=42)\n",
        "\n",
        "# Entraînement du modèle AdaBoost\n",
        "adaboost_model.fit(X_train_scaled, y_train)\n",
        "\n",
        "# Prédiction sur l'ensemble de test\n",
        "adaboost_y_pred = adaboost_model.predict(X_test_scaled)\n",
        "\n",
        "# Évaluation des performances du modèle AdaBoost\n",
        "adaboost_accuracy = accuracy_score(y_test, adaboost_y_pred)\n",
        "adaboost_precision = precision_score(y_test, adaboost_y_pred)\n",
        "adaboost_recall = recall_score(y_test, adaboost_y_pred)\n",
        "adaboost_f1 = f1_score(y_test, adaboost_y_pred)\n",
        "\n",
        "print(\"AdaBoost Accuracy:\", adaboost_accuracy)\n",
        "print(\"AdaBoost Precision:\", adaboost_precision)\n",
        "print(\"AdaBoost Recall:\", adaboost_recall)\n",
        "print(\"AdaBoost F1 Score:\", adaboost_f1)\n"
      ]
    },
    {
      "cell_type": "code",
      "execution_count": 113,
      "metadata": {
        "colab": {
          "base_uri": "https://localhost:8080/",
          "height": 472
        },
        "id": "HNxOeHiTsdC0",
        "outputId": "df206497-1120-43eb-f8a3-b782f0833a7a"
      },
      "outputs": [
        {
          "data": {
            "image/png": "[encoded data removed]",
            "text/plain": [
              "<Figure size 640x480 with 1 Axes>"
            ]
          },
          "metadata": {},
          "output_type": "display_data"
        }
      ],
      "source": [
        "# Calcul des probabilités de prédiction pour les courbes ROC\n",
        "adaboost_y_pred_probs = adaboost_model.decision_function(X_test_scaled)\n",
        "adaboost_auc = roc_auc_score(y_test, adaboost_y_pred_probs)\n",
        "\n",
        "# Courbe ROC\n",
        "fpr, tpr, thresholds = roc_curve(y_test, adaboost_y_pred_probs)\n",
        "\n",
        "plt.figure()\n",
        "plt.plot(fpr, tpr, label='AdaBoost (AUC = {:.2f})'.format(adaboost_auc))\n",
        "plt.plot([0, 1], [0, 1], 'k--')\n",
        "plt.xlim([0.0, 1.0])\n",
        "plt.ylim([0.0, 1.05])\n",
        "plt.xlabel('Taux de faux positifs')\n",
        "plt.ylabel('Taux de vrais positifs')\n",
        "plt.title('Courbe ROC')\n",
        "plt.legend(loc='lower right')\n",
        "plt.show()\n"
      ]
    },
    {
      "cell_type": "code",
      "execution_count": 114,
      "metadata": {
        "colab": {
          "base_uri": "https://localhost:8080/",
          "height": 487
        },
        "id": "busVS_CgzEhd",
        "outputId": "b2af9445-57a6-4289-88ed-91a5ae8078d5"
      },
      "outputs": [
        {
          "data": {
            "image/png": "[encoded data removed]",
            "text/plain": [
              "<Figure size 640x480 with 1 Axes>"
            ]
          },
          "metadata": {},
          "output_type": "display_data"
        }
      ],
      "source": [
        "y_score = adaboost_model.predict_proba(X_test_scaled)\n",
        "\n",
        "df_aux = pd.DataFrame(columns=['class', 'prob'])\n",
        "df_aux['class'] = y_test\n",
        "\n",
        "df_aux['prob'] = y_score[:, i]\n",
        "df_aux = df_aux.reset_index(drop = True)\n",
        "\n",
        "ax = plt.subplot(1, 1, 1)\n",
        "\n",
        "# Plots the probability distribution for the class and the rest\n",
        "#ax = plt.subplot(2, 4, i-3)\n",
        "sns.histplot(x = \"prob\", data = df_aux, hue = 'class', color='b', ax = ax, bins = bins)\n",
        "ax.set_title(\"Histogram\")\n",
        "ax.legend([f\"malware\", \"non malware\"])\n",
        "ax.set_xlabel(f\"P(x = malware)\")\n",
        "\n",
        "plt.tight_layout()\n",
        "plt.show()"
      ]
    },
    {
      "cell_type": "code",
      "execution_count": 115,
      "metadata": {
        "colab": {
          "base_uri": "https://localhost:8080/"
        },
        "id": "C3dHRdv90r3v",
        "outputId": "16f4b60e-52b7-4f2e-a894-2cb0ada7dbd5"
      },
      "outputs": [
        {
          "data": {
            "text/plain": [
              "['AdaBoost.pkl']"
            ]
          },
          "execution_count": 115,
          "metadata": {},
          "output_type": "execute_result"
        }
      ],
      "source": [
        "import joblib\n",
        "\n",
        "# Save the trained AdaBoost model\n",
        "joblib.dump(adaboost_model, \"AdaBoost.pkl\")"
      ]
    },
    {
      "cell_type": "code",
      "execution_count": 116,
      "metadata": {
        "colab": {
          "base_uri": "https://localhost:8080/"
        },
        "id": "wI9mNDrI5LLF",
        "outputId": "a827bf0d-3fac-40e9-931f-e4f5618636d1"
      },
      "outputs": [
        {
          "name": "stdout",
          "output_type": "stream",
          "text": [
            "              precision    recall  f1-score   support\n",
            "\n",
            "           0    0.81102   0.45575   0.58357       226\n",
            "           1    0.98578   0.99719   0.99145      8550\n",
            "\n",
            "    accuracy                        0.98325      8776\n",
            "   macro avg    0.89840   0.72647   0.78751      8776\n",
            "weighted avg    0.98128   0.98325   0.98095      8776\n",
            "\n"
          ]
        }
      ],
      "source": [
        "print(classification_report(y_test, adaboost_y_pred, digits=5))"
      ]
    },
    {
      "attachments": {},
      "cell_type": "markdown",
      "metadata": {
        "id": "UHkuDyHSw8oT"
      },
      "source": [
        "# XGBoost"
      ]
    },
    {
      "cell_type": "code",
      "execution_count": 117,
      "metadata": {
        "colab": {
          "base_uri": "https://localhost:8080/"
        },
        "id": "v3wo8utEw_Xc",
        "outputId": "81a64d4c-e311-4cde-ee0c-50fac18da0e8"
      },
      "outputs": [
        {
          "name": "stdout",
          "output_type": "stream",
          "text": [
            "XGBoost Accuracy: 0.9900865998176845\n",
            "XGBoost Precision: 0.9904949576909702\n",
            "XGBoost Recall: 0.9994152046783625\n",
            "XGBoost F1 Score: 0.9949350876171624\n"
          ]
        }
      ],
      "source": [
        "import xgboost as xgb\n",
        "\n",
        "# Création du modèle XGBoost\n",
        "xgb_model = xgb.XGBClassifier(random_state=42)\n",
        "\n",
        "# Entraînement du modèle XGBoost\n",
        "xgb_model.fit(X_train_scaled, y_train)\n",
        "\n",
        "# Prédiction sur l'ensemble de test\n",
        "xgb_y_pred = xgb_model.predict(X_test_scaled)\n",
        "\n",
        "# Évaluation des performances du modèle XGBoost\n",
        "xgb_accuracy = accuracy_score(y_test, xgb_y_pred)\n",
        "xgb_precision = precision_score(y_test, xgb_y_pred)\n",
        "xgb_recall = recall_score(y_test, xgb_y_pred)\n",
        "xgb_f1 = f1_score(y_test, xgb_y_pred)\n",
        "\n",
        "print(\"XGBoost Accuracy:\", xgb_accuracy)\n",
        "print(\"XGBoost Precision:\", xgb_precision)\n",
        "print(\"XGBoost Recall:\", xgb_recall)\n",
        "print(\"XGBoost F1 Score:\", xgb_f1)"
      ]
    },
    {
      "cell_type": "code",
      "execution_count": 118,
      "metadata": {
        "colab": {
          "base_uri": "https://localhost:8080/",
          "height": 472
        },
        "id": "w7nASbrSsh7I",
        "outputId": "306e2c05-3008-4819-e4ee-1fd59c0f6c04"
      },
      "outputs": [
        {
          "data": {
            "image/png": "[encoded data removed]",
            "text/plain": [
              "<Figure size 640x480 with 1 Axes>"
            ]
          },
          "metadata": {},
          "output_type": "display_data"
        }
      ],
      "source": [
        "# Calcul des probabilités de prédiction pour les courbes ROC\n",
        "xgb_y_pred_probs = xgb_model.predict_proba(X_test_scaled)[:, 1]\n",
        "xgb_auc = roc_auc_score(y_test, xgb_y_pred_probs)\n",
        "\n",
        "# Courbe ROC\n",
        "fpr, tpr, thresholds = roc_curve(y_test, xgb_y_pred_probs)\n",
        "\n",
        "plt.figure()\n",
        "plt.plot(fpr, tpr, label='XGBoost (AUC = {:.2f})'.format(xgb_auc))\n",
        "plt.plot([0, 1], [0, 1], 'k--')\n",
        "plt.xlim([0.0, 1.0])\n",
        "plt.ylim([0.0, 1.05])\n",
        "plt.xlabel('Taux de faux positifs')\n",
        "plt.ylabel('Taux de vrais positifs')\n",
        "plt.title('Courbe ROC')\n",
        "plt.legend(loc='lower right')\n",
        "plt.show()"
      ]
    },
    {
      "cell_type": "code",
      "execution_count": 119,
      "metadata": {
        "colab": {
          "base_uri": "https://localhost:8080/",
          "height": 487
        },
        "id": "pheyk93hzK_i",
        "outputId": "e63b2c97-3117-40a7-a291-ef121e99968a"
      },
      "outputs": [
        {
          "data": {
            "image/png": "[encoded data removed]",
            "text/plain": [
              "<Figure size 640x480 with 1 Axes>"
            ]
          },
          "metadata": {},
          "output_type": "display_data"
        }
      ],
      "source": [
        "y_score = xgb_model.predict_proba(X_test_scaled)\n",
        "\n",
        "df_aux = pd.DataFrame(columns=['class', 'prob'])\n",
        "df_aux['class'] = y_test\n",
        "\n",
        "df_aux['prob'] = y_score[:, i]\n",
        "df_aux = df_aux.reset_index(drop = True)\n",
        "\n",
        "ax = plt.subplot(1, 1, 1)\n",
        "\n",
        "# Plots the probability distribution for the class and the rest\n",
        "#ax = plt.subplot(2, 4, i-3)\n",
        "sns.histplot(x = \"prob\", data = df_aux, hue = 'class', color='b', ax = ax, bins = bins)\n",
        "ax.set_title(\"Histogram\")\n",
        "ax.legend([f\"malware\", \"non malware\"])\n",
        "ax.set_xlabel(f\"P(x = malware)\")\n",
        "\n",
        "plt.tight_layout()\n",
        "plt.show()"
      ]
    },
    {
      "cell_type": "code",
      "execution_count": 120,
      "metadata": {
        "colab": {
          "base_uri": "https://localhost:8080/"
        },
        "id": "Yixand8I0fnY",
        "outputId": "127d6900-a7c3-4efb-c3e3-13b3d860ff36"
      },
      "outputs": [
        {
          "data": {
            "text/plain": [
              "['XGBoost.pkl']"
            ]
          },
          "execution_count": 120,
          "metadata": {},
          "output_type": "execute_result"
        }
      ],
      "source": [
        "import joblib\n",
        "\n",
        "# Save the trained XGBoost model\n",
        "joblib.dump(xgb_model, \"XGBoost.pkl\")"
      ]
    },
    {
      "cell_type": "code",
      "execution_count": 121,
      "metadata": {
        "colab": {
          "base_uri": "https://localhost:8080/"
        },
        "id": "k1dYOU2p5UW0",
        "outputId": "1b9d6696-e9a9-412d-ac51-73fff38cae3d"
      },
      "outputs": [
        {
          "name": "stdout",
          "output_type": "stream",
          "text": [
            "              precision    recall  f1-score   support\n",
            "\n",
            "           0    0.96644   0.63717   0.76800       226\n",
            "           1    0.99049   0.99942   0.99494      8550\n",
            "\n",
            "    accuracy                        0.99009      8776\n",
            "   macro avg    0.97847   0.81829   0.88147      8776\n",
            "weighted avg    0.98988   0.99009   0.98909      8776\n",
            "\n"
          ]
        }
      ],
      "source": [
        "print(classification_report(y_test, xgb_y_pred, digits=5))"
      ]
    },
    {
      "attachments": {},
      "cell_type": "markdown",
      "metadata": {
        "id": "nKF6kALsw4N8"
      },
      "source": [
        "# MLPC"
      ]
    },
    {
      "cell_type": "code",
      "execution_count": 122,
      "metadata": {
        "colab": {
          "base_uri": "https://localhost:8080/"
        },
        "id": "y6f8KyN5xHgM",
        "outputId": "e2aeba9f-058c-4731-bed8-0c48c1118823"
      },
      "outputs": [
        {
          "name": "stderr",
          "output_type": "stream",
          "text": [
            "/usr/local/lib/python3.10/dist-packages/sklearn/neural_network/_multilayer_perceptron.py:1098: DataConversionWarning: A column-vector y was passed when a 1d array was expected. Please change the shape of y to (n_samples, ), for example using ravel().\n",
            "  y = column_or_1d(y, warn=True)\n"
          ]
        },
        {
          "name": "stdout",
          "output_type": "stream",
          "text": [
            "MLPC Accuracy: 0.9867821330902461\n",
            "MLPC Precision: 0.9880787037037037\n",
            "MLPC Recall: 0.9984795321637427\n",
            "MLPC F1 Score: 0.9932518906340895\n"
          ]
        }
      ],
      "source": [
        "from sklearn.neural_network import MLPClassifier\n",
        "\n",
        "# Création du modèle MLPC\n",
        "mlpc_model = MLPClassifier(random_state=42)\n",
        "\n",
        "# Entraînement du modèle MLPC\n",
        "mlpc_model.fit(X_train_scaled, y_train)\n",
        "\n",
        "# Prédiction sur l'ensemble de test\n",
        "mlpc_y_pred = mlpc_model.predict(X_test_scaled)\n",
        "\n",
        "# Évaluation des performances du modèle MLPC\n",
        "mlpc_accuracy = accuracy_score(y_test, mlpc_y_pred)\n",
        "mlpc_precision = precision_score(y_test, mlpc_y_pred)\n",
        "mlpc_recall = recall_score(y_test, mlpc_y_pred)\n",
        "mlpc_f1 = f1_score(y_test, mlpc_y_pred)\n",
        "\n",
        "print(\"MLPC Accuracy:\", mlpc_accuracy)\n",
        "print(\"MLPC Precision:\", mlpc_precision)\n",
        "print(\"MLPC Recall:\", mlpc_recall)\n",
        "print(\"MLPC F1 Score:\", mlpc_f1)"
      ]
    },
    {
      "cell_type": "code",
      "execution_count": 123,
      "metadata": {
        "colab": {
          "base_uri": "https://localhost:8080/",
          "height": 472
        },
        "id": "1UDJskVWsmPz",
        "outputId": "80a8f9a3-6ce1-476d-92c4-fd0e73d779d8"
      },
      "outputs": [
        {
          "data": {
            "image/png": "[encoded data removed]",
            "text/plain": [
              "<Figure size 640x480 with 1 Axes>"
            ]
          },
          "metadata": {},
          "output_type": "display_data"
        }
      ],
      "source": [
        "# Calcul des probabilités de prédiction pour les courbes ROC\n",
        "mlpc_y_pred_probs = mlpc_model.predict_proba(X_test_scaled)[:, 1]\n",
        "mlpc_auc = roc_auc_score(y_test, mlpc_y_pred_probs)\n",
        "\n",
        "# Courbe ROC\n",
        "fpr, tpr, thresholds = roc_curve(y_test, mlpc_y_pred_probs)\n",
        "\n",
        "plt.figure()\n",
        "plt.plot(fpr, tpr, label='MLPC (AUC = {:.2f})'.format(mlpc_auc))\n",
        "plt.plot([0, 1], [0, 1], 'k--')\n",
        "plt.xlim([0.0, 1.0])\n",
        "plt.ylim([0.0, 1.05])\n",
        "plt.xlabel('Taux de faux positifs')\n",
        "plt.ylabel('Taux de vrais positifs')\n",
        "plt.title('Courbe ROC')\n",
        "plt.legend(loc='lower right')\n",
        "plt.show()"
      ]
    },
    {
      "cell_type": "code",
      "execution_count": 124,
      "metadata": {
        "colab": {
          "base_uri": "https://localhost:8080/",
          "height": 487
        },
        "id": "4MLTfsTvzP2y",
        "outputId": "0bab1aff-f249-4651-8490-4bc3ccefb45d"
      },
      "outputs": [
        {
          "data": {
            "image/png": "[encoded data removed]",
            "text/plain": [
              "<Figure size 640x480 with 1 Axes>"
            ]
          },
          "metadata": {},
          "output_type": "display_data"
        }
      ],
      "source": [
        "y_score = mlpc_model.predict_proba(X_test_scaled)\n",
        "\n",
        "df_aux = pd.DataFrame(columns=['class', 'prob'])\n",
        "df_aux['class'] = y_test\n",
        "\n",
        "df_aux['prob'] = y_score[:, i]\n",
        "df_aux = df_aux.reset_index(drop = True)\n",
        "\n",
        "ax = plt.subplot(1, 1, 1)\n",
        "\n",
        "# Plots the probability distribution for the class and the rest\n",
        "#ax = plt.subplot(2, 4, i-3)\n",
        "sns.histplot(x = \"prob\", data = df_aux, hue = 'class', color='b', ax = ax, bins = bins)\n",
        "ax.set_title(\"Histogram\")\n",
        "ax.legend([f\"malware\", \"non malware\"])\n",
        "ax.set_xlabel(f\"P(x = malware)\")\n",
        "\n",
        "plt.tight_layout()\n",
        "plt.show()"
      ]
    },
    {
      "cell_type": "code",
      "execution_count": 125,
      "metadata": {
        "colab": {
          "base_uri": "https://localhost:8080/"
        },
        "id": "moyn_u7r0SAi",
        "outputId": "e85aae10-7f5b-4ab3-9090-b17d160ddc0a"
      },
      "outputs": [
        {
          "data": {
            "text/plain": [
              "['MLPC.pkl']"
            ]
          },
          "execution_count": 125,
          "metadata": {},
          "output_type": "execute_result"
        }
      ],
      "source": [
        "import joblib\n",
        "\n",
        "# Save the trained MLPC model\n",
        "joblib.dump(mlpc_model, \"MLPC.pkl\")"
      ]
    },
    {
      "cell_type": "code",
      "execution_count": 126,
      "metadata": {
        "colab": {
          "base_uri": "https://localhost:8080/"
        },
        "id": "u859qd2P5eqM",
        "outputId": "53e85aaa-d7bf-4706-d856-fc9f100ad0f8"
      },
      "outputs": [
        {
          "name": "stdout",
          "output_type": "stream",
          "text": [
            "              precision    recall  f1-score   support\n",
            "\n",
            "           0    0.90441   0.54425   0.67956       226\n",
            "           1    0.98808   0.99848   0.99325      8550\n",
            "\n",
            "    accuracy                        0.98678      8776\n",
            "   macro avg    0.94625   0.77136   0.83640      8776\n",
            "weighted avg    0.98592   0.98678   0.98517      8776\n",
            "\n"
          ]
        }
      ],
      "source": [
        "print(classification_report(y_test, mlpc_y_pred, digits=5))"
      ]
    },
    {
      "attachments": {},
      "cell_type": "markdown",
      "metadata": {
        "id": "akJhlfIw5fS3"
      },
      "source": [
        "# DL"
      ]
    },
    {
      "cell_type": "code",
      "execution_count": 129,
      "metadata": {
        "colab": {
          "base_uri": "https://localhost:8080/"
        },
        "id": "oni4L_mdxn4x",
        "outputId": "26579261-aa3e-4cf2-8724-17b613b20bef"
      },
      "outputs": [
        {
          "name": "stdout",
          "output_type": "stream",
          "text": [
            "Epoch 1/10\n",
            "1097/1097 [==============================] - 8s 5ms/step - loss: 0.0965 - accuracy: 0.9783 - val_loss: 0.0794 - val_accuracy: 0.9814\n",
            "Epoch 2/10\n",
            "1097/1097 [==============================] - 4s 4ms/step - loss: 0.0720 - accuracy: 0.9825 - val_loss: 0.0709 - val_accuracy: 0.9815\n",
            "Epoch 3/10\n",
            "1097/1097 [==============================] - 4s 4ms/step - loss: 0.0671 - accuracy: 0.9830 - val_loss: 0.0660 - val_accuracy: 0.9834\n",
            "Epoch 4/10\n",
            "1097/1097 [==============================] - 5s 5ms/step - loss: 0.0645 - accuracy: 0.9837 - val_loss: 0.0644 - val_accuracy: 0.9834\n",
            "Epoch 5/10\n",
            "1097/1097 [==============================] - 4s 4ms/step - loss: 0.0608 - accuracy: 0.9841 - val_loss: 0.0704 - val_accuracy: 0.9840\n",
            "Epoch 6/10\n",
            "1097/1097 [==============================] - 4s 4ms/step - loss: 0.0579 - accuracy: 0.9848 - val_loss: 0.0600 - val_accuracy: 0.9846\n",
            "Epoch 7/10\n",
            "1097/1097 [==============================] - 4s 4ms/step - loss: 0.0560 - accuracy: 0.9850 - val_loss: 0.0582 - val_accuracy: 0.9845\n",
            "Epoch 8/10\n",
            "1097/1097 [==============================] - 4s 4ms/step - loss: 0.0543 - accuracy: 0.9858 - val_loss: 0.0561 - val_accuracy: 0.9851\n",
            "Epoch 9/10\n",
            "1097/1097 [==============================] - 4s 4ms/step - loss: 0.0532 - accuracy: 0.9858 - val_loss: 0.0602 - val_accuracy: 0.9850\n",
            "Epoch 10/10\n",
            "1097/1097 [==============================] - 4s 3ms/step - loss: 0.0513 - accuracy: 0.9858 - val_loss: 0.0559 - val_accuracy: 0.9850\n",
            "275/275 [==============================] - 1s 3ms/step - loss: 0.0559 - accuracy: 0.9850\n",
            "Loss: 0.05592066049575806\n",
            "Accuracy: 0.9849590063095093\n"
          ]
        }
      ],
      "source": [
        "import tensorflow as tf\n",
        "from tensorflow.keras.models import Sequential\n",
        "from tensorflow.keras.layers import Dense, Dropout\n",
        "from tensorflow.keras.callbacks import EarlyStopping\n",
        "\n",
        "# Création du modèle\n",
        "model = Sequential()\n",
        "\n",
        "# Ajout des couches cachées\n",
        "model.add(Dense(128, activation='relu', input_shape=(100,)))  # Couche d'entrée\n",
        "model.add(Dropout(0.2))  # Couche Dropout pour la régularisation\n",
        "model.add(Dense(64, activation='relu'))  # Couche cachée\n",
        "model.add(Dropout(0.2))  # Couche Dropout\n",
        "model.add(Dense(32, activation='relu'))  # Couche cachée\n",
        "\n",
        "# Ajout de la couche de sortie\n",
        "model.add(Dense(1, activation='sigmoid'))  # Couche de sortie avec une activation sigmoid pour la classification binaire\n",
        "\n",
        "# Compilation du modèle\n",
        "model.compile(loss='binary_crossentropy', optimizer='adam', metrics=['accuracy'])\n",
        "\n",
        "# Définition de l'arrêt précoce\n",
        "early_stopping = EarlyStopping(patience=3, monitor='val_loss', restore_best_weights=True)\n",
        "\n",
        "# Entraînement du modèle\n",
        "history = model.fit(X_train_scaled, y_train, batch_size=32, epochs=10, validation_data=(X_test_scaled, y_test), callbacks=[early_stopping])\n",
        "\n",
        "# Évaluation des performances du modèle\n",
        "loss, accuracy = model.evaluate(X_test_scaled, y_test)\n",
        "print(\"Loss:\", loss)\n",
        "print(\"Accuracy:\", accuracy)"
      ]
    },
    {
      "cell_type": "code",
      "execution_count": 127,
      "metadata": {
        "colab": {
          "base_uri": "https://localhost:8080/"
        },
        "id": "Ysb2GPVuyBqa",
        "outputId": "0e945a2b-09f5-4760-e437-5cf658b8b80d"
      },
      "outputs": [
        {
          "name": "stdout",
          "output_type": "stream",
          "text": [
            "              precision    recall  f1-score   support\n",
            "\n",
            "           0    0.94406   0.59735   0.73171       226\n",
            "           1    0.98946   0.99906   0.99424      8550\n",
            "\n",
            "    accuracy                        0.98872      8776\n",
            "   macro avg    0.96676   0.79820   0.86297      8776\n",
            "weighted avg    0.98829   0.98872   0.98748      8776\n",
            "\n"
          ]
        }
      ],
      "source": [
        "# Prédictions sur les données de test\n",
        "y_pred_probs = model.predict(X_test_scaled)\n",
        "y_pred = (y_pred_probs > 0.5).astype(int)\n",
        "\n",
        "# Rapport de classification\n",
        "report = classification_report(y_test, y_pred, digits=5)\n",
        "print(report)"
      ]
    },
    {
      "cell_type": "code",
      "execution_count": 131,
      "metadata": {
        "colab": {
          "base_uri": "https://localhost:8080/",
          "height": 258
        },
        "id": "1Jiy6fNOzTu8",
        "outputId": "3f12c608-42fd-4041-aa03-25868c980e52"
      },
      "outputs": [
        {
          "name": "stdout",
          "output_type": "stream",
          "text": [
            "275/275 [==============================] - 1s 2ms/step\n"
          ]
        },
        {
          "ename": "IndexError",
          "evalue": "ignored",
          "output_type": "error",
          "traceback": [
            "\u001b[0;31m---------------------------------------------------------------------------\u001b[0m",
            "\u001b[0;31mIndexError\u001b[0m                                Traceback (most recent call last)",
            "\u001b[0;32m<ipython-input-131-840cf31128b7>\u001b[0m in \u001b[0;36m<cell line: 6>\u001b[0;34m()\u001b[0m\n\u001b[1;32m      4\u001b[0m \u001b[0mdf_aux\u001b[0m\u001b[0;34m[\u001b[0m\u001b[0;34m'class'\u001b[0m\u001b[0;34m]\u001b[0m \u001b[0;34m=\u001b[0m \u001b[0my_test\u001b[0m\u001b[0;34m\u001b[0m\u001b[0;34m\u001b[0m\u001b[0m\n\u001b[1;32m      5\u001b[0m \u001b[0;34m\u001b[0m\u001b[0m\n\u001b[0;32m----> 6\u001b[0;31m \u001b[0mdf_aux\u001b[0m\u001b[0;34m[\u001b[0m\u001b[0;34m'prob'\u001b[0m\u001b[0;34m]\u001b[0m \u001b[0;34m=\u001b[0m \u001b[0my_score\u001b[0m\u001b[0;34m[\u001b[0m\u001b[0;34m:\u001b[0m\u001b[0;34m,\u001b[0m \u001b[0mi\u001b[0m\u001b[0;34m]\u001b[0m\u001b[0;34m\u001b[0m\u001b[0;34m\u001b[0m\u001b[0m\n\u001b[0m\u001b[1;32m      7\u001b[0m \u001b[0mdf_aux\u001b[0m \u001b[0;34m=\u001b[0m \u001b[0mdf_aux\u001b[0m\u001b[0;34m.\u001b[0m\u001b[0mreset_index\u001b[0m\u001b[0;34m(\u001b[0m\u001b[0mdrop\u001b[0m \u001b[0;34m=\u001b[0m \u001b[0;32mTrue\u001b[0m\u001b[0;34m)\u001b[0m\u001b[0;34m\u001b[0m\u001b[0;34m\u001b[0m\u001b[0m\n\u001b[1;32m      8\u001b[0m \u001b[0;34m\u001b[0m\u001b[0m\n",
            "\u001b[0;31mIndexError\u001b[0m: index 1 is out of bounds for axis 1 with size 1"
          ]
        }
      ],
      "source": [
        "y_score = model.predict(X_test_scaled)\n",
        "\n",
        "df_aux = pd.DataFrame(columns=['class', 'prob'])\n",
        "df_aux['class'] = y_test\n",
        "\n",
        "df_aux['prob'] = y_score[:, i]\n",
        "df_aux = df_aux.reset_index(drop = True)\n",
        "\n",
        "ax = plt.subplot(1, 1, 1)\n",
        "\n",
        "# Plots the probability distribution for the class and the rest\n",
        "#ax = plt.subplot(2, 4, i-3)\n",
        "sns.histplot(x = \"prob\", data = df_aux, hue = 'class', color='b', ax = ax, bins = bins)\n",
        "ax.set_title(\"Histogram\")\n",
        "ax.legend([f\"malware\", \"non malware\"])\n",
        "ax.set_xlabel(f\"P(x = malware)\")\n",
        "\n",
        "plt.tight_layout()\n",
        "plt.show()"
      ]
    },
    {
      "cell_type": "code",
      "execution_count": 132,
      "metadata": {
        "colab": {
          "base_uri": "https://localhost:8080/",
          "height": 505
        },
        "id": "M24DHIch2VYl",
        "outputId": "a2ba11b5-5ed8-4954-d3c7-7bfd5156febf"
      },
      "outputs": [
        {
          "name": "stdout",
          "output_type": "stream",
          "text": [
            "275/275 [==============================] - 0s 2ms/step\n"
          ]
        },
        {
          "data": {
            "image/png": "[encoded data removed]",
            "text/plain": [
              "<Figure size 640x480 with 1 Axes>"
            ]
          },
          "metadata": {},
          "output_type": "display_data"
        }
      ],
      "source": [
        "y_pred = model.predict(X_test_scaled)\n",
        "\n",
        "df_aux = pd.DataFrame(columns=['class'])\n",
        "df_aux['class'] = y_test\n",
        "\n",
        "df_aux['predicted_class'] = y_pred\n",
        "df_aux = df_aux.reset_index(drop=True)\n",
        "\n",
        "ax = plt.subplot(1, 1, 1)\n",
        "sns.histplot(x=\"predicted_class\", data=df_aux, hue='class', color='b', ax=ax, bins=bins)\n",
        "ax.set_title(\"Histogram\")\n",
        "ax.legend([\"malware\", \"non-malware\"])\n",
        "ax.set_xlabel(\"Predicted Class\")\n",
        "\n",
        "plt.tight_layout()\n",
        "plt.show()\n"
      ]
    },
    {
      "cell_type": "code",
      "execution_count": null,
      "metadata": {
        "id": "2qCHCwgQ5Ycm"
      },
      "outputs": [],
      "source": []
    },
    {
      "cell_type": "code",
      "execution_count": 135,
      "metadata": {
        "colab": {
          "base_uri": "https://localhost:8080/",
          "height": 490
        },
        "id": "fy2QVjjC5YiZ",
        "outputId": "7033d4ea-0482-4ba4-f2bf-a44e6be5209d"
      },
      "outputs": [
        {
          "name": "stdout",
          "output_type": "stream",
          "text": [
            "275/275 [==============================] - 1s 3ms/step\n"
          ]
        },
        {
          "data": {
            "image/png": "[encoded data removed]",
            "text/plain": [
              "<Figure size 640x480 with 1 Axes>"
            ]
          },
          "metadata": {},
          "output_type": "display_data"
        }
      ],
      "source": [
        "# Calcul des probabilités de prédiction pour les courbes ROC\n",
        "mlpc_y_pred_probs = model.predict(X_test_scaled)\n",
        "mlpc_auc = roc_auc_score(y_test, mlpc_y_pred_probs)\n",
        "\n",
        "# Courbe ROC\n",
        "fpr, tpr, thresholds = roc_curve(y_test, mlpc_y_pred_probs)\n",
        "\n",
        "plt.figure()\n",
        "plt.plot(fpr, tpr, label='DL (AUC = {:.2f})'.format(mlpc_auc))\n",
        "plt.plot([0, 1], [0, 1], 'k--')\n",
        "plt.xlim([0.0, 1.0])\n",
        "plt.ylim([0.0, 1.05])\n",
        "plt.xlabel('Taux de faux positifs')\n",
        "plt.ylabel('Taux de vrais positifs')\n",
        "plt.title('Courbe ROC')\n",
        "plt.legend(loc='lower right')\n",
        "plt.show()"
      ]
    },
    {
      "cell_type": "code",
      "execution_count": null,
      "metadata": {
        "id": "T2oh62f50F9t"
      },
      "outputs": [],
      "source": [
        "# Save the trained model\n",
        "model.save(\"dl.h5\")"
      ]
    },
    {
      "cell_type": "code",
      "execution_count": null,
      "metadata": {
        "id": "mGZm0NOR2UyC"
      },
      "outputs": [],
      "source": [
        "dataset = data.iloc[1, 1:101].to_frame().transpose()\n",
        "dataset.to_csv('./test_kaggle.csv', index=False)"
      ]
    },
    {
      "cell_type": "code",
      "execution_count": null,
      "metadata": {
        "id": "pCe6VAG_xtN2"
      },
      "outputs": [],
      "source": [
        "print(classification_report(y_test, mlpc_y_pred, digits=5))"
      ]
    }
  ],
  "metadata": {
    "colab": {
      "provenance": []
    },
    "kernelspec": {
      "display_name": "Python 3",
      "name": "python3"
    },
    "language_info": {
      "name": "python"
    }
  },
  "nbformat": 4,
  "nbformat_minor": 0
}
